{
 "cells": [
  {
   "cell_type": "markdown",
   "metadata": {},
   "source": [
    "# Hierarchical Attention Networks\n",
    "\n",
    "We are interested in automatically classifying a document into a particular class of a predetermined set. This set of classes could be the document's rating, its subject, the year it was written, etc.\n",
    "\n",
    "One solution to this task is to create a parameterized model which takes a document as input and outputs a probability for each class. We can then find model parameters ($\\theta$) which maximize the log-likelihood,\n",
    "$$ max_\\theta \\sum_{d} \\log p_{dj} $$\n",
    "where $p_{dj}$ is the model's predicted probability for document $d$'s ground-truth label $j$.\n",
    "\n",
    "In [Hierarchical Attention Networks for Document Classification](https://www.cs.cmu.edu/~./hovy/papers/16HLT-hierarchical-attention-networks.pdf), Yang et al. propose a neural network model which creates a hierarchy of vector representations for the words and sentences in the document, and for the document itself. At each step in the hierarchy, there is a funnel of information, from the many words to the single sentence it forms, and from the many sentences to the single document it forms. The authors propose the use of an attention mechanism to keep the important information at each step. A linear classifier then uses the final vector for the document to predict the document class probabilities.\n",
    "\n",
    "Specifically, we begin by mapping our words to word vector embeddings. We then use a 1-layer bidirectional GRU to create context dependent word representations. We then take a weighted sum of these vectors to produce a vector representation for the sentence. These weights are determined by taking the softmax of the dot products between each context dependent word representation and a \"query word\". This query word is learned jointly with the entire model. We call this mechanism \"attention\". The document vector is created from the sentence vectors in the same way, a 1-layer bidirectional GRU and attention. We can then optimize the model with a modification of standard stochastic gradient descent, [Adam](https://arxiv.org/abs/1412.6980).\n",
    "\n",
    "## Overview\n",
    "\n",
    "We will first explore the \"Yelp Review Polarity\" dataset, prepare the dataset for training, and train our implementation of a hierarchical attention network on the dataset. We will then examine the results by seeing its accuracy on the test set and by visualizing the attention mechanism."
   ]
  },
  {
   "cell_type": "markdown",
   "metadata": {},
   "source": [
    "## The Yelp Review Polarity Task\n",
    "\n",
    "Let's begin by downloading the \"Yelp Review Polarity\" dataset, generated in 2015 by scraping Yelp reviews from the web. Our document classes are the review's sentiment, \"negative\" (1-2 stars out of 4) or \"positive\" (3-4 stars out of 4). The dataset contains 598000 reviews."
   ]
  },
  {
   "cell_type": "code",
   "execution_count": 1,
   "metadata": {},
   "outputs": [],
   "source": [
    "# Some code from \"Load and batch data\" section of this tutorial:\n",
    "# https://pytorch.org/tutorials/beginner/transformer_tutorial.html\n",
    "\n",
    "import matplotlib.pyplot as plt\n",
    "import pandas as pd\n",
    "import numpy as np\n",
    "import torch\n",
    "from torch.utils.data import Dataset\n",
    "from torch.utils.data import DataLoader\n",
    "from torchtext.utils import download_from_url, extract_archive\n",
    "from torchtext.data.utils import get_tokenizer\n",
    "from torchtext.vocab import Vocab\n",
    "\n",
    "torch.manual_seed(0)\n",
    "np.random.seed(0)\n",
    "\n",
    "url = 'https://drive.google.com/uc?export=download&id=0Bz8a_Dbh9QhbNUpYQ2N3SGlFaDg'\n",
    "dataset_dir = '.data'\n",
    "\n",
    "readmefile, testfile, trainfile = extract_archive(download_from_url(url))"
   ]
  },
  {
   "cell_type": "markdown",
   "metadata": {},
   "source": [
    "Let's examine the README file."
   ]
  },
  {
   "cell_type": "code",
   "execution_count": 2,
   "metadata": {},
   "outputs": [
    {
     "name": "stdout",
     "output_type": "stream",
     "text": [
      "Yelp Review Polarity Dataset\n",
      "\n",
      "Version 1, Updated 09/09/2015\n",
      "\n",
      "ORIGIN\n",
      "\n",
      "The Yelp reviews dataset consists of reviews from Yelp. It is extracted from the Yelp Dataset Challenge 2015 data. For more information, please refer to http://www.yelp.com/dataset_challenge\n",
      "\n",
      "The Yelp reviews polarity dataset is constructed by Xiang Zhang (xiang.zhang@nyu.edu) from the above dataset. It is first used as a text classification benchmark in the following paper: Xiang Zhang, Junbo Zhao, Yann LeCun. Character-level Convolutional Networks for Text Classification. Advances in Neural Information Processing Systems 28 (NIPS 2015).\n",
      "\n",
      "DESCRIPTION\n",
      "\n",
      "The Yelp reviews polarity dataset is constructed by considering stars 1 and 2 negative, and 3 and 4 positive. For each polarity 280,000 training samples and 19,000 testing samples are take randomly. In total there are 560,000 trainig samples and 38,000 testing samples. Negative polarity is class 1, and positive class 2.\n",
      "\n",
      "The files train.csv and test.csv contain all the training samples as comma-sparated values. There are 2 columns in them, corresponding to class index (1 and 2) and review text. The review texts are escaped using double quotes (\"), and any internal double quote is escaped by 2 double quotes (\"\"). New lines are escaped by a backslash followed with an \"n\" character, that is \"\\n\".\n",
      "\n"
     ]
    }
   ],
   "source": [
    "with open(readmefile) as f:\n",
    "    for line in f:\n",
    "        if line == '\\n':\n",
    "            continue\n",
    "        print(line)"
   ]
  },
  {
   "cell_type": "markdown",
   "metadata": {},
   "source": [
    "The dataset consists of two CSVs, one for training and one for testing. The first column is the class, \"1\" for a negative review and \"2\" for a positive review. Let's use the \"basic_english\" tokenizer available through torchtext to tokenize the documents, and help us generate the vocabulary. We'll read in the training CSV into a pandas DataFrame. For the vocabulary, we'll keep just 15000 words."
   ]
  },
  {
   "cell_type": "code",
   "execution_count": 3,
   "metadata": {},
   "outputs": [],
   "source": [
    "tokenizer = get_tokenizer('basic_english')\n",
    "\n",
    "from collections import Counter\n",
    "counter = Counter()\n",
    "\n",
    "csv = pd.read_csv(trainfile, header=None)\n",
    "for t in range(len(csv)):\n",
    "    counter.update(tokenizer(csv.iloc[t, 1]))\n",
    "\n",
    "vocab = Vocab(counter, max_size=15000, specials=('<unk>',))"
   ]
  },
  {
   "cell_type": "code",
   "execution_count": 4,
   "metadata": {},
   "outputs": [
    {
     "name": "stdout",
     "output_type": "stream",
     "text": [
      "\".\" appeared 5573516 times\n",
      "\"the\" appeared 3684643 times\n",
      "\",\" appeared 2721256 times\n",
      "\"and\" appeared 2413092 times\n",
      "\"i\" appeared 2189721 times\n",
      "\"to\" appeared 1884876 times\n",
      "\"a\" appeared 1879179 times\n",
      "\"'\" appeared 1451916 times\n",
      "\"was\" appeared 1327408 times\n",
      "\"it\" appeared 1133419 times\n",
      "\"of\" appeared 1108340 times\n",
      "\"for\" appeared 862458 times\n",
      "\"in\" appeared 848403 times\n",
      "\"is\" appeared 828420 times\n",
      "\"!\" appeared 790284 times\n",
      "\"that\" appeared 747283 times\n",
      "\"my\" appeared 665275 times\n",
      "\"we\" appeared 623249 times\n",
      "\"you\" appeared 598991 times\n",
      "\"this\" appeared 593865 times\n"
     ]
    }
   ],
   "source": [
    "top20 = vocab.freqs.most_common(20)\n",
    "for x in top20:\n",
    "    print('\"' + x[0] + '\" appeared ' + str(x[1]) + ' times')"
   ]
  },
  {
   "cell_type": "markdown",
   "metadata": {},
   "source": [
    "Let's see the first review."
   ]
  },
  {
   "cell_type": "code",
   "execution_count": 5,
   "metadata": {},
   "outputs": [
    {
     "name": "stdout",
     "output_type": "stream",
     "text": [
      "This review has been labeled negative.\n",
      "\n",
      "Unfortunately, the frustration of being Dr. Goldberg's patient is a repeat of the experience I've had with so many other doctors in NYC -- good doctor, terrible staff.  It seems that his staff simply never answers the phone.  It usually takes 2 hours of repeated calling to get an answer.  Who has time for that or wants to deal with it?  I have run into this problem with many other doctors and I just don't get it.  You have office workers, you have patients with medical needs, why isn't anyone answering the phone?  It's incomprehensible and not work the aggravation.  It's with regret that I feel that I have to give Dr. Goldberg 2 stars.\n"
     ]
    }
   ],
   "source": [
    "print(\"This review has been labeled \", end=\"\")\n",
    "print(\"positive.\" if csv.iloc[0,0] == 2 else \"negative.\")\n",
    "print(\"\")\n",
    "print(csv.iloc[0,1])"
   ]
  },
  {
   "cell_type": "markdown",
   "metadata": {},
   "source": [
    "In order to use this with the hierarchical attention networks, we need to break each document into sentences. Unfortunately, our sentences are different lengths, so this results in a set of variable length sequences. One option is to pad all of the sentences until they are the same length, but I instead opted for representing the sentences as a list of tensors. This has the downside that inference and training requires lots of slow loops, instead of harnessing the optimized batch operations in PyTorch, but is closer in spirit to the motivation for the hierarchical attention network's design.\n",
    "\n",
    "I will implement a class inheriting \"Dataset\" from the PyTorch utilities. This will allow us to use a \"DataLoader\" for enumerating the dataset for training. I used [this tutorial](https://pytorch.org/tutorials/beginner/data_loading_tutorial.html) as a guide."
   ]
  },
  {
   "cell_type": "code",
   "execution_count": 6,
   "metadata": {},
   "outputs": [],
   "source": [
    "# Definition for extracting dataset from csv\n",
    "# returned samples are a tuple of lists\n",
    "# each element of the first list is the 0=negative, 1=positive label\n",
    "# each element of the second list is a list of sentences\n",
    "# each sentence is a numpy array of its tokens\n",
    "class YelpReviewsDataset(Dataset):\n",
    "    def __init__(self, tokenizer, vocab, csv, transform=None):\n",
    "        self.csv = csv\n",
    "        self.transform = transform\n",
    "        \n",
    "    def __len__(self):\n",
    "        return len(self.csv)\n",
    "        \n",
    "    def __getitem__(self, idx):\n",
    "        if torch.is_tensor(idx):\n",
    "            idx = idx.tolist()\n",
    "        \n",
    "        # If idx is not a list, make it one\n",
    "        try:\n",
    "            len(idx)\n",
    "        except:\n",
    "            idx = [idx]\n",
    "            \n",
    "        labels = []\n",
    "        for l in self.csv.iloc[idx, 0]:\n",
    "            labels.append(np.array(0) if l == 1 else np.array(1))\n",
    "        \n",
    "        reviews = []\n",
    "        for line in self.csv.iloc[idx, 1]:\n",
    "            tokenized_line = np.array([vocab[token] for token in tokenizer(line)])\n",
    "            punctuation = (tokenized_line==vocab[\".\"]) | (tokenized_line==vocab[\"!\"]) | (tokenized_line==vocab[\"?\"])\n",
    "            split_line = np.split(tokenized_line, (punctuation).nonzero()[0]+1)\n",
    "            if len(split_line[-1]) == 0:\n",
    "                reviews.append(split_line[:-1])\n",
    "            else:\n",
    "                reviews.append(split_line)\n",
    "        \n",
    "        sample = (labels, reviews)\n",
    "        if self.transform:\n",
    "            sample = self.transform(sample)\n",
    "            \n",
    "        return sample\n",
    "\n",
    "# Convert our numpy arrays into PyTorch tensors\n",
    "# These will be placed on the CPU to allow multithreading\n",
    "# We will load it onto the GPU right before calling the model\n",
    "class ToTensor(object):\n",
    "    def __call__(self, sample):\n",
    "        labels, reviews = sample\n",
    "        for t, l in enumerate(labels):\n",
    "            labels[t] = torch.from_numpy(l)\n",
    "        for t1, r in enumerate(reviews):\n",
    "            for t2, s in enumerate(r):\n",
    "                reviews[t1][t2] = torch.from_numpy(s)\n",
    "        sample = (labels, reviews)\n",
    "        return sample\n",
    "    \n",
    "\n",
    "dataset = YelpReviewsDataset(tokenizer=tokenizer, vocab=vocab, csv=csv,\\\n",
    "                             transform=ToTensor())\n",
    "\n",
    "# We need to define how to merge multiple samples from the dataset\n",
    "def collate_fn(x):\n",
    "    labels = [xit[0][0] for xit in x]\n",
    "    reviews = [xit[1][0] for xit in x]\n",
    "    return (labels, reviews)\n",
    "\n",
    "dataloader = DataLoader(dataset, batch_size=4, shuffle=True, num_workers=6, collate_fn=collate_fn)"
   ]
  },
  {
   "cell_type": "markdown",
   "metadata": {},
   "source": [
    "Let's examine the review above, as it will be seen by the network. Unfortunately, we are treating any \".\", \"!\", or \"?\" as the end of sentence, so we will break on \"Dr.\". However, this is too small of an edge case to cater to, and we will let the network learn to deal with these cases."
   ]
  },
  {
   "cell_type": "code",
   "execution_count": 7,
   "metadata": {},
   "outputs": [
    {
     "name": "stdout",
     "output_type": "stream",
     "text": [
      "The label is : tensor(0)\n",
      "The document is :\n",
      "[tensor([ 702,    3,    2, 4324,   11,  181,  925,    1]), tensor([   0,    8,   28, 1629,   14,    7, 2138,   11,    2,  143,    5,    8,\n",
      "          91,   29,   23,   32,  199,   87, 3085,   13, 2612,  724,   40, 1339,\n",
      "           3,  462,  135,    1]), tensor([  10,  518,   16,  185,  135,  798,   96, 3786,    2,  449,    1]), tensor([  10,  392,  835,  158,  369,   11, 4091, 1410,    6,   50,   68, 1251,\n",
      "           1]), tensor([ 123,  100,   54,   12,   16,   58, 1658,    6,  424,   23,   10,   61]), tensor([   5,   27,  584,  184,   20,  463,   23,  199,   87, 3085,    4,    5,\n",
      "          47,   85,    8,   24,   50,   10,    1]), tensor([  19,   27,  643, 1627,    3,   19,   27, 3206,   23, 2927,  633,    3,\n",
      "         237,  428,    8,   24,  471, 4280,    2,  449,   61]), tensor([   10,     8,    28,     0,     4,    26,   224,     2, 10766,     1]), tensor([  10,    8,   28,   23, 2232,   16,    5,  253,   16,    5,   27,    6,\n",
      "         169,  925,    1]), tensor([  0, 158, 255,   1])]\n"
     ]
    }
   ],
   "source": [
    "label, document = dataset[0]\n",
    "print('The label is : ' + str(label[0]))\n",
    "print('The document is :')\n",
    "print(document[0])"
   ]
  },
  {
   "cell_type": "markdown",
   "metadata": {},
   "source": [
    "Now we are ready to implement hierarchical attention networks. Taking the dot product with the query word will be implemented as a nn.Linear layer without a bias term that maps to a dimension of 1. The network will return the raw logits from the linear classifier as well as the computed attention."
   ]
  },
  {
   "cell_type": "code",
   "execution_count": 8,
   "metadata": {},
   "outputs": [],
   "source": [
    "import torch.nn as nn\n",
    "import torch.nn.functional as F\n",
    "class HierarchicalAttentionNetwork(nn.Module):\n",
    "    def __init__(self, vocab_n, class_n, word_d=200, gru_d=50):\n",
    "        super().__init__()\n",
    "        self.vocab_n = vocab_n\n",
    "        self.class_n = class_n\n",
    "        self.word_d = word_d\n",
    "        self.gru_d = gru_d\n",
    "        \n",
    "        self.embedding = nn.Embedding(vocab_n, word_d)\n",
    "        self.wordGRU = nn.GRU(word_d, gru_d, 1, bidirectional=True)\n",
    "        self.wordLin = nn.Linear(2*gru_d, 2*gru_d)\n",
    "        self.queryWord = nn.Linear(2*gru_d, 1, bias=False)\n",
    "        self.sentGRU = nn.GRU(2*gru_d, gru_d, 1, bidirectional=True)\n",
    "        self.querySent = nn.Linear(2*gru_d, 1, bias=False)\n",
    "        self.sentLin = nn.Linear(2*gru_d, 2*gru_d)\n",
    "        self.classifyLin = nn.Linear(2*gru_d, class_n)\n",
    "        \n",
    "    def encodeSentence(self, words):\n",
    "        # words (seq_len)\n",
    "        # Convert to (seq_len, batch), batch=1\n",
    "        words = words.view(-1, 1)\n",
    "        x = self.embedding(words) # W_w*w_{it} in the paper (seq_len, batch, dim)\n",
    "        x, _ = self.wordGRU(x) # h_{it} in the paper (seq_len, batch, 2*gru_dim)\n",
    "        a = torch.tanh(self.wordLin(x)) # u_{it} in the paper (seq_len, batch, 2*gru_dim)\n",
    "        a = F.softmax(self.queryWord(a), dim=0) #a_{it} in the paper (seq_len, batch, 1)\n",
    "        return (a*x).sum(dim=0).view(-1), a # s_i in the paper (2*gru_dim)\n",
    "        \n",
    "    def encodeDocument(self, sentences):\n",
    "        # sentences (seq_len, 2*gru_d)\n",
    "        # Convert to (seq_len, batch, 2*gru_d), batch=1\n",
    "        sentences = sentences.view(-1, 1, 2*self.gru_d)\n",
    "        x, _ = self.sentGRU(sentences.view(-1, 1, 2*self.gru_d)) # h_i in the paper (seq_len, batch, 2*gru_dim)\n",
    "        a = torch.tanh(self.sentLin(x)) # u_i in the paper (seq_len, batch, 2*gru_dim)\n",
    "        a = F.softmax(self.querySent(a), dim=0) # a_i in the paper (seq_len, batch, 1)\n",
    "        return (a*x).sum(dim=0), a # v in the paper (batch, 2*gru_dim)\n",
    "    \n",
    "    def forward(self, documents):\n",
    "        # documents [doc0, ..., docN]\n",
    "        \n",
    "        # Encode the sentences\n",
    "        sentenceEncodings = []\n",
    "        sentenceAttn = []\n",
    "        for doc in documents:\n",
    "            x = []\n",
    "            y = []\n",
    "            for sentence in doc:\n",
    "                sentEnc, sentAttn = self.encodeSentence(sentence)\n",
    "                x.append(sentEnc) # returns (2*gru_d)\n",
    "                y.append(sentAttn)\n",
    "            sentenceEncodings.append(torch.vstack(x)) # (n_sentences, 2*gru_d)   \n",
    "            sentenceAttn.append(y)\n",
    "                \n",
    "        # Encode the documents\n",
    "        documentEncodings = []\n",
    "        documentAttn = []\n",
    "        for sentEncoding in sentenceEncodings:\n",
    "            docEnc, docAttn = self.encodeDocument(sentEncoding)\n",
    "            documentEncodings.append(docEnc)\n",
    "            documentAttn.append(docAttn)\n",
    "            \n",
    "        v = torch.cat(documentEncodings) # (n_documents, 2*gru_d)\n",
    "        \n",
    "        # Classify vectors\n",
    "        # p = F.softmax(self.classifyLin(v), dim=1)\n",
    "        # However, we will return raw logits\n",
    "        return self.classifyLin(v), sentenceAttn, documentAttn\n",
    "        "
   ]
  },
  {
   "cell_type": "markdown",
   "metadata": {},
   "source": [
    "Let's train! We will stop the training prematurely on batch 40000, since this is only a small experiment."
   ]
  },
  {
   "cell_type": "code",
   "execution_count": 29,
   "metadata": {},
   "outputs": [
    {
     "name": "stdout",
     "output_type": "stream",
     "text": [
      "Iteration 0 : Loss 0.7548605\n",
      "Iteration 100 : Loss 0.66624886\n",
      "Iteration 200 : Loss 0.15974152\n",
      "Iteration 300 : Loss 0.6725747\n",
      "Iteration 400 : Loss 0.3585944\n",
      "Iteration 500 : Loss 0.28277737\n",
      "Iteration 600 : Loss 0.4636814\n",
      "Iteration 700 : Loss 0.12793423\n",
      "Iteration 800 : Loss 0.40409338\n",
      "Iteration 900 : Loss 0.1107034\n",
      "Iteration 1000 : Loss 0.7172373\n",
      "Iteration 1100 : Loss 0.05746807\n",
      "Iteration 1200 : Loss 0.17386039\n",
      "Iteration 1300 : Loss 0.07510318\n",
      "Iteration 1400 : Loss 0.03460207\n",
      "Iteration 1500 : Loss 0.12859365\n",
      "Iteration 1600 : Loss 0.018136712\n",
      "Iteration 1700 : Loss 0.16441226\n",
      "Iteration 1800 : Loss 0.056934185\n",
      "Iteration 1900 : Loss 0.18047437\n",
      "Iteration 2000 : Loss 0.19782506\n",
      "Iteration 2100 : Loss 0.06909582\n",
      "Iteration 2200 : Loss 0.052721906\n",
      "Iteration 2300 : Loss 0.06907495\n",
      "Iteration 2400 : Loss 0.15285061\n",
      "Iteration 2500 : Loss 0.013685643\n",
      "Iteration 2600 : Loss 0.01913614\n",
      "Iteration 2700 : Loss 0.024999704\n",
      "Iteration 2800 : Loss 0.18071307\n",
      "Iteration 2900 : Loss 0.014484799\n",
      "Iteration 3000 : Loss 0.5229228\n",
      "Iteration 3100 : Loss 0.109981194\n",
      "Iteration 3200 : Loss 0.17877744\n",
      "Iteration 3300 : Loss 0.13952923\n",
      "Iteration 3400 : Loss 0.19306949\n",
      "Iteration 3500 : Loss 0.076774016\n",
      "Iteration 3600 : Loss 0.018272012\n",
      "Iteration 3700 : Loss 0.42727792\n",
      "Iteration 3800 : Loss 0.17401531\n",
      "Iteration 3900 : Loss 0.42176047\n",
      "Iteration 4000 : Loss 0.09354753\n",
      "Iteration 4100 : Loss 0.09301595\n",
      "Iteration 4200 : Loss 0.030802626\n",
      "Iteration 4300 : Loss 0.011942194\n",
      "Iteration 4400 : Loss 0.2761003\n",
      "Iteration 4500 : Loss 0.060343295\n",
      "Iteration 4600 : Loss 0.008019069\n",
      "Iteration 4700 : Loss 0.07195665\n",
      "Iteration 4800 : Loss 0.5098109\n",
      "Iteration 4900 : Loss 0.407916\n",
      "Iteration 5000 : Loss 0.25400177\n",
      "Iteration 5100 : Loss 0.01181999\n",
      "Iteration 5200 : Loss 0.15163149\n",
      "Iteration 5300 : Loss 0.010940101\n",
      "Iteration 5400 : Loss 0.029220589\n",
      "Iteration 5500 : Loss 0.006565635\n",
      "Iteration 5600 : Loss 0.02663532\n",
      "Iteration 5700 : Loss 0.32577947\n",
      "Iteration 5800 : Loss 0.08391187\n",
      "Iteration 5900 : Loss 0.0017264951\n",
      "Iteration 6000 : Loss 0.032927416\n",
      "Iteration 6100 : Loss 0.030910527\n",
      "Iteration 6200 : Loss 0.22252746\n",
      "Iteration 6300 : Loss 0.2998401\n",
      "Iteration 6400 : Loss 0.08163701\n",
      "Iteration 6500 : Loss 0.09213154\n",
      "Iteration 6600 : Loss 0.049270645\n",
      "Iteration 6700 : Loss 0.18971047\n",
      "Iteration 6800 : Loss 1.932271\n",
      "Iteration 6900 : Loss 0.014410693\n",
      "Iteration 7000 : Loss 0.23473147\n",
      "Iteration 7100 : Loss 0.010889103\n",
      "Iteration 7200 : Loss 0.09409581\n",
      "Iteration 7300 : Loss 0.44320732\n",
      "Iteration 7400 : Loss 0.024341278\n",
      "Iteration 7500 : Loss 0.41987115\n",
      "Iteration 7600 : Loss 0.09394193\n",
      "Iteration 7700 : Loss 0.49636626\n",
      "Iteration 7800 : Loss 0.023579013\n",
      "Iteration 7900 : Loss 0.0015809854\n",
      "Iteration 8000 : Loss 0.10539521\n",
      "Iteration 8100 : Loss 0.0316779\n",
      "Iteration 8200 : Loss 0.0021298558\n",
      "Iteration 8300 : Loss 0.09279643\n",
      "Iteration 8400 : Loss 0.5556636\n",
      "Iteration 8500 : Loss 0.026367918\n",
      "Iteration 8600 : Loss 0.5713613\n",
      "Iteration 8700 : Loss 0.22895509\n",
      "Iteration 8800 : Loss 0.010223251\n",
      "Iteration 8900 : Loss 0.03964279\n",
      "Iteration 9000 : Loss 0.014042357\n",
      "Iteration 9100 : Loss 0.025800452\n",
      "Iteration 9200 : Loss 0.006226954\n",
      "Iteration 9300 : Loss 0.0064800624\n",
      "Iteration 9400 : Loss 0.0030329616\n",
      "Iteration 9500 : Loss 0.02408754\n",
      "Iteration 9600 : Loss 0.006740935\n",
      "Iteration 9700 : Loss 0.0005988857\n",
      "Iteration 9800 : Loss 0.17331542\n",
      "Iteration 9900 : Loss 0.14313382\n",
      "Iteration 10000 : Loss 0.068433724\n",
      "Iteration 10100 : Loss 1.4954119\n",
      "Iteration 10200 : Loss 0.60008734\n",
      "Iteration 10300 : Loss 0.26714182\n",
      "Iteration 10400 : Loss 0.07515174\n",
      "Iteration 10500 : Loss 0.023051932\n",
      "Iteration 10600 : Loss 0.1743536\n",
      "Iteration 10700 : Loss 0.10746289\n",
      "Iteration 10800 : Loss 0.019783622\n",
      "Iteration 10900 : Loss 0.0055905282\n",
      "Iteration 11000 : Loss 0.02584549\n",
      "Iteration 11100 : Loss 0.011206066\n",
      "Iteration 11200 : Loss 0.074464306\n",
      "Iteration 11300 : Loss 0.0050314916\n",
      "Iteration 11400 : Loss 0.02929637\n",
      "Iteration 11500 : Loss 0.022669384\n",
      "Iteration 11600 : Loss 0.009409629\n",
      "Iteration 11700 : Loss 0.19083405\n",
      "Iteration 11800 : Loss 0.14388993\n",
      "Iteration 11900 : Loss 0.016541686\n",
      "Iteration 12000 : Loss 0.029282693\n",
      "Iteration 12100 : Loss 0.72964865\n",
      "Iteration 12200 : Loss 0.07351744\n",
      "Iteration 12300 : Loss 0.19644839\n",
      "Iteration 12400 : Loss 0.37312615\n",
      "Iteration 12500 : Loss 0.0069599748\n",
      "Iteration 12600 : Loss 0.2972583\n",
      "Iteration 12700 : Loss 0.0011347791\n",
      "Iteration 12800 : Loss 0.042709082\n",
      "Iteration 12900 : Loss 0.8715655\n",
      "Iteration 13000 : Loss 0.034836017\n",
      "Iteration 13100 : Loss 0.0033392233\n",
      "Iteration 13200 : Loss 0.10365858\n",
      "Iteration 13300 : Loss 0.009965593\n",
      "Iteration 13400 : Loss 0.50723064\n",
      "Iteration 13500 : Loss 0.0063768933\n",
      "Iteration 13600 : Loss 0.40566233\n",
      "Iteration 13700 : Loss 0.14601807\n",
      "Iteration 13800 : Loss 0.015896376\n",
      "Iteration 13900 : Loss 0.0068006665\n",
      "Iteration 14000 : Loss 0.03775059\n",
      "Iteration 14100 : Loss 0.00689122\n",
      "Iteration 14200 : Loss 0.06711623\n",
      "Iteration 14300 : Loss 0.0058058524\n",
      "Iteration 14400 : Loss 0.05704575\n",
      "Iteration 14500 : Loss 0.016332258\n",
      "Iteration 14600 : Loss 0.22800037\n",
      "Iteration 14700 : Loss 0.20146865\n",
      "Iteration 14800 : Loss 0.009262935\n",
      "Iteration 14900 : Loss 0.018863384\n",
      "Iteration 15000 : Loss 0.3967913\n",
      "Iteration 15100 : Loss 0.634238\n",
      "Iteration 15200 : Loss 0.0136764655\n",
      "Iteration 15300 : Loss 0.0034154505\n",
      "Iteration 15400 : Loss 0.013428659\n",
      "Iteration 15500 : Loss 0.0027009896\n",
      "Iteration 15600 : Loss 0.06569265\n",
      "Iteration 15700 : Loss 0.0006647886\n",
      "Iteration 15800 : Loss 0.009384935\n",
      "Iteration 15900 : Loss 0.04489416\n",
      "Iteration 16000 : Loss 0.0017661522\n",
      "Iteration 16100 : Loss 0.10045938\n",
      "Iteration 16200 : Loss 0.025475347\n",
      "Iteration 16300 : Loss 0.021062411\n",
      "Iteration 16400 : Loss 0.008418073\n",
      "Iteration 16500 : Loss 0.0067991945\n",
      "Iteration 16600 : Loss 0.01331872\n",
      "Iteration 16700 : Loss 0.43287718\n",
      "Iteration 16800 : Loss 0.0130498875\n",
      "Iteration 16900 : Loss 0.13956936\n",
      "Iteration 17000 : Loss 0.17586271\n",
      "Iteration 17100 : Loss 0.01753723\n",
      "Iteration 17200 : Loss 0.04579057\n",
      "Iteration 17300 : Loss 0.010548351\n",
      "Iteration 17400 : Loss 0.051239155\n",
      "Iteration 17500 : Loss 0.017174818\n",
      "Iteration 17600 : Loss 0.06454054\n",
      "Iteration 17700 : Loss 1.2635795\n",
      "Iteration 17800 : Loss 0.029237116\n",
      "Iteration 17900 : Loss 0.2855958\n",
      "Iteration 18000 : Loss 0.01864221\n",
      "Iteration 18100 : Loss 0.015151837\n",
      "Iteration 18200 : Loss 0.15681227\n",
      "Iteration 18300 : Loss 0.81028706\n",
      "Iteration 18400 : Loss 0.01383105\n",
      "Iteration 18500 : Loss 0.6448277\n",
      "Iteration 18600 : Loss 0.008615766\n",
      "Iteration 18700 : Loss 0.0030060117\n",
      "Iteration 18800 : Loss 0.03013729\n",
      "Iteration 18900 : Loss 0.3448511\n",
      "Iteration 19000 : Loss 0.0046942597\n",
      "Iteration 19100 : Loss 0.020689312\n",
      "Iteration 19200 : Loss 0.016464861\n",
      "Iteration 19300 : Loss 0.006753385\n",
      "Iteration 19400 : Loss 0.0035293729\n",
      "Iteration 19500 : Loss 0.006582816\n",
      "Iteration 19600 : Loss 0.05506563\n",
      "Iteration 19700 : Loss 0.54663396\n",
      "Iteration 19800 : Loss 0.124815226\n",
      "Iteration 19900 : Loss 0.389956\n",
      "Iteration 20000 : Loss 0.057184115\n",
      "Iteration 20100 : Loss 0.0061739623\n",
      "Iteration 20200 : Loss 0.023736913\n",
      "Iteration 20300 : Loss 0.09140332\n",
      "Iteration 20400 : Loss 0.0022812863\n",
      "Iteration 20500 : Loss 0.10263749\n",
      "Iteration 20600 : Loss 0.002094863\n",
      "Iteration 20700 : Loss 0.015947402\n",
      "Iteration 20800 : Loss 0.068751045\n",
      "Iteration 20900 : Loss 0.08328252\n",
      "Iteration 21000 : Loss 0.009749895\n",
      "Iteration 21100 : Loss 0.045376904\n",
      "Iteration 21200 : Loss 0.1485548\n",
      "Iteration 21300 : Loss 0.06356563\n",
      "Iteration 21400 : Loss 0.0062389625\n",
      "Iteration 21500 : Loss 0.31064543\n",
      "Iteration 21600 : Loss 0.17000546\n",
      "Iteration 21700 : Loss 0.16534784\n",
      "Iteration 21800 : Loss 0.3840515\n",
      "Iteration 21900 : Loss 0.0032156827\n",
      "Iteration 22000 : Loss 0.072604485\n",
      "Iteration 22100 : Loss 0.041649267\n",
      "Iteration 22200 : Loss 0.041878197\n",
      "Iteration 22300 : Loss 0.060199074\n",
      "Iteration 22400 : Loss 0.076241046\n",
      "Iteration 22500 : Loss 0.035403922\n",
      "Iteration 22600 : Loss 0.65953314\n",
      "Iteration 22700 : Loss 0.13794494\n",
      "Iteration 22800 : Loss 0.7626969\n",
      "Iteration 22900 : Loss 0.06573826\n",
      "Iteration 23000 : Loss 0.04092984\n",
      "Iteration 23100 : Loss 0.022397399\n",
      "Iteration 23200 : Loss 0.032113407\n",
      "Iteration 23300 : Loss 0.03572172\n",
      "Iteration 23400 : Loss 0.0057723178\n",
      "Iteration 23500 : Loss 0.23656991\n",
      "Iteration 23600 : Loss 0.028790394\n",
      "Iteration 23700 : Loss 0.023313772\n",
      "Iteration 23800 : Loss 0.0019239071\n",
      "Iteration 23900 : Loss 0.0014419376\n",
      "Iteration 24000 : Loss 0.18535545\n",
      "Iteration 24100 : Loss 0.027226686\n"
     ]
    },
    {
     "name": "stdout",
     "output_type": "stream",
     "text": [
      "Iteration 24200 : Loss 0.07012189\n",
      "Iteration 24300 : Loss 0.0055393693\n",
      "Iteration 24400 : Loss 0.034398165\n",
      "Iteration 24500 : Loss 0.014498711\n",
      "Iteration 24600 : Loss 0.15698187\n",
      "Iteration 24700 : Loss 0.0020129737\n",
      "Iteration 24800 : Loss 0.064036466\n",
      "Iteration 24900 : Loss 0.032485332\n",
      "Iteration 25000 : Loss 0.77214855\n",
      "Iteration 25100 : Loss 0.001641297\n",
      "Iteration 25200 : Loss 0.10911906\n",
      "Iteration 25300 : Loss 0.0020339135\n",
      "Iteration 25400 : Loss 0.019229434\n",
      "Iteration 25500 : Loss 0.028724775\n",
      "Iteration 25600 : Loss 0.057162907\n",
      "Iteration 25700 : Loss 0.0108449645\n",
      "Iteration 25800 : Loss 0.137303\n",
      "Iteration 25900 : Loss 0.35223144\n",
      "Iteration 26000 : Loss 0.010806634\n",
      "Iteration 26100 : Loss 0.031370256\n",
      "Iteration 26200 : Loss 0.0037165591\n",
      "Iteration 26300 : Loss 0.035906687\n",
      "Iteration 26400 : Loss 0.0032847158\n",
      "Iteration 26500 : Loss 0.013565243\n",
      "Iteration 26600 : Loss 0.004984649\n",
      "Iteration 26700 : Loss 0.00646568\n",
      "Iteration 26800 : Loss 0.1553995\n",
      "Iteration 26900 : Loss 0.033446226\n",
      "Iteration 27000 : Loss 0.1826319\n",
      "Iteration 27100 : Loss 0.020133335\n",
      "Iteration 27200 : Loss 0.006375215\n",
      "Iteration 27300 : Loss 0.4847132\n",
      "Iteration 27400 : Loss 0.005031749\n",
      "Iteration 27500 : Loss 0.11936286\n",
      "Iteration 27600 : Loss 0.17639105\n",
      "Iteration 27700 : Loss 0.01991585\n",
      "Iteration 27800 : Loss 0.0040086503\n",
      "Iteration 27900 : Loss 0.024780588\n",
      "Iteration 28000 : Loss 0.035092693\n",
      "Iteration 28100 : Loss 0.023341002\n",
      "Iteration 28200 : Loss 0.0016184973\n",
      "Iteration 28300 : Loss 0.0013656294\n",
      "Iteration 28400 : Loss 0.5340129\n",
      "Iteration 28500 : Loss 0.0006427112\n",
      "Iteration 28600 : Loss 0.17250931\n",
      "Iteration 28700 : Loss 0.005916552\n",
      "Iteration 28800 : Loss 0.17725304\n",
      "Iteration 28900 : Loss 0.025990345\n",
      "Iteration 29000 : Loss 0.011980479\n",
      "Iteration 29100 : Loss 0.36166242\n",
      "Iteration 29200 : Loss 0.010838814\n",
      "Iteration 29300 : Loss 0.25234368\n",
      "Iteration 29400 : Loss 0.43064925\n",
      "Iteration 29500 : Loss 0.059145138\n",
      "Iteration 29600 : Loss 0.011978316\n",
      "Iteration 29700 : Loss 0.0059355577\n",
      "Iteration 29800 : Loss 0.060071416\n",
      "Iteration 29900 : Loss 0.15618126\n",
      "Iteration 30000 : Loss 0.027083447\n",
      "Iteration 30100 : Loss 0.003246627\n",
      "Iteration 30200 : Loss 0.00097226124\n",
      "Iteration 30300 : Loss 0.004857734\n",
      "Iteration 30400 : Loss 0.6138946\n",
      "Iteration 30500 : Loss 0.04689961\n",
      "Iteration 30600 : Loss 0.34317976\n",
      "Iteration 30700 : Loss 0.06124822\n",
      "Iteration 30800 : Loss 0.3459997\n",
      "Iteration 30900 : Loss 0.035442755\n",
      "Iteration 31000 : Loss 0.0041037197\n",
      "Iteration 31100 : Loss 0.027202737\n",
      "Iteration 31200 : Loss 0.16514596\n",
      "Iteration 31300 : Loss 0.32773384\n",
      "Iteration 31400 : Loss 0.00064385467\n",
      "Iteration 31500 : Loss 0.25722247\n",
      "Iteration 31600 : Loss 0.13269974\n",
      "Iteration 31700 : Loss 0.0024747215\n",
      "Iteration 31800 : Loss 0.010302301\n",
      "Iteration 31900 : Loss 0.08030918\n",
      "Iteration 32000 : Loss 0.009000991\n",
      "Iteration 32100 : Loss 0.8413247\n",
      "Iteration 32200 : Loss 0.020332536\n",
      "Iteration 32300 : Loss 0.18469205\n",
      "Iteration 32400 : Loss 0.032287184\n",
      "Iteration 32500 : Loss 0.06639595\n",
      "Iteration 32600 : Loss 0.13137302\n",
      "Iteration 32700 : Loss 0.068397395\n",
      "Iteration 32800 : Loss 0.07874383\n",
      "Iteration 32900 : Loss 0.07309565\n",
      "Iteration 33000 : Loss 0.03379448\n",
      "Iteration 33100 : Loss 0.3646326\n",
      "Iteration 33200 : Loss 0.018742157\n",
      "Iteration 33300 : Loss 0.040231258\n",
      "Iteration 33400 : Loss 0.1370844\n",
      "Iteration 33500 : Loss 0.022517107\n",
      "Iteration 33600 : Loss 0.5182799\n",
      "Iteration 33700 : Loss 0.044684518\n",
      "Iteration 33800 : Loss 0.18877384\n",
      "Iteration 33900 : Loss 0.020447897\n",
      "Iteration 34000 : Loss 0.0018709152\n",
      "Iteration 34100 : Loss 0.23576151\n",
      "Iteration 34200 : Loss 0.06635436\n",
      "Iteration 34300 : Loss 0.07654923\n",
      "Iteration 34400 : Loss 0.052046105\n",
      "Iteration 34500 : Loss 0.09565675\n",
      "Iteration 34600 : Loss 0.17814536\n",
      "Iteration 34700 : Loss 0.22055164\n",
      "Iteration 34800 : Loss 0.15161115\n",
      "Iteration 34900 : Loss 0.028347569\n",
      "Iteration 35000 : Loss 0.4873308\n",
      "Iteration 35100 : Loss 0.0856604\n",
      "Iteration 35200 : Loss 0.038296424\n",
      "Iteration 35300 : Loss 0.022650331\n",
      "Iteration 35400 : Loss 0.19168034\n",
      "Iteration 35500 : Loss 0.03431927\n",
      "Iteration 35600 : Loss 0.0025392096\n",
      "Iteration 35700 : Loss 0.01782369\n",
      "Iteration 35800 : Loss 0.005419297\n",
      "Iteration 35900 : Loss 0.003367049\n",
      "Iteration 36000 : Loss 0.06511085\n",
      "Iteration 36100 : Loss 0.08754741\n",
      "Iteration 36200 : Loss 0.007170602\n",
      "Iteration 36300 : Loss 0.07564535\n",
      "Iteration 36400 : Loss 0.24128844\n",
      "Iteration 36500 : Loss 0.027833294\n",
      "Iteration 36600 : Loss 0.79647046\n",
      "Iteration 36700 : Loss 0.004521937\n",
      "Iteration 36800 : Loss 0.0025594858\n",
      "Iteration 36900 : Loss 0.0070515275\n",
      "Iteration 37000 : Loss 0.15713675\n",
      "Iteration 37100 : Loss 0.021154154\n",
      "Iteration 37200 : Loss 0.061456427\n",
      "Iteration 37300 : Loss 0.009327777\n",
      "Iteration 37400 : Loss 0.004567288\n",
      "Iteration 37500 : Loss 0.0035463998\n",
      "Iteration 37600 : Loss 0.08466379\n",
      "Iteration 37700 : Loss 0.46854794\n",
      "Iteration 37800 : Loss 0.04786216\n",
      "Iteration 37900 : Loss 0.0031707906\n",
      "Iteration 38000 : Loss 0.42886442\n",
      "Iteration 38100 : Loss 0.024960574\n",
      "Iteration 38200 : Loss 0.020137932\n",
      "Iteration 38300 : Loss 0.0018898199\n",
      "Iteration 38400 : Loss 0.034615472\n",
      "Iteration 38500 : Loss 0.0031920162\n",
      "Iteration 38600 : Loss 0.009779636\n",
      "Iteration 38700 : Loss 0.07899534\n",
      "Iteration 38800 : Loss 0.0035715592\n",
      "Iteration 38900 : Loss 0.013625672\n",
      "Iteration 39000 : Loss 0.0064059654\n",
      "Iteration 39100 : Loss 0.0064002895\n",
      "Iteration 39200 : Loss 0.0013150454\n",
      "Iteration 39300 : Loss 0.010758353\n",
      "Iteration 39400 : Loss 0.5363068\n",
      "Iteration 39500 : Loss 0.012594381\n",
      "Iteration 39600 : Loss 0.007732475\n",
      "Iteration 39700 : Loss 0.006120388\n",
      "Iteration 39800 : Loss 0.067107715\n",
      "Iteration 39900 : Loss 0.00050364784\n",
      "Iteration 40000 : Loss 0.6153845\n",
      "CPU times: user 53min 7s, sys: 2min 10s, total: 55min 17s\n",
      "Wall time: 56min 20s\n"
     ]
    },
    {
     "data": {
      "image/png": "[encoded data removed]",
      "text/plain": [
       "<Figure size 432x288 with 1 Axes>"
      ]
     },
     "metadata": {
      "needs_background": "light"
     },
     "output_type": "display_data"
    }
   ],
   "source": [
    "%%time\n",
    "\n",
    "net = HierarchicalAttentionNetwork(len(vocab), 2)\n",
    "\n",
    "device = torch.device('cuda' if torch.cuda.is_available() else 'cpu')\n",
    "net.to(device)\n",
    "\n",
    "loss_f = nn.CrossEntropyLoss()\n",
    "optimizer = torch.optim.Adam(net.parameters())\n",
    "n_epochs = 1\n",
    "losses = []\n",
    "iterations = []\n",
    "\n",
    "train = True # Whether or not we should train the network, or just load it\n",
    "\n",
    "# Train the network\n",
    "if train:\n",
    "    for epoch in range(1,n_epochs+1):\n",
    "        for i_batch, sampled_batch in enumerate(dataloader):\n",
    "            documents = [[a.to(device) for a in b] for b in sampled_batch[1]]\n",
    "            target = torch.tensor(sampled_batch[0]).to(device)\n",
    "            prediction, _, _ = net(documents)\n",
    "\n",
    "            loss = loss_f(prediction, target)\n",
    "            optimizer.zero_grad()\n",
    "            loss.backward()\n",
    "            optimizer.step()\n",
    "\n",
    "            if i_batch % 100 == 0:\n",
    "                with torch.no_grad():\n",
    "                    losses.append(loss.cpu().numpy())\n",
    "                    iterations.append(i_batch*epoch)\n",
    "                    print('Iteration ' + str(i_batch*epoch) + ' : Loss ' + str(loss.cpu().numpy()))\n",
    "\n",
    "            # Stop training prematurely, as this is only a small experiment\n",
    "            if i_batch == 40000:\n",
    "                break\n",
    "\n",
    "    torch.save(net.state_dict(), 'net.pt')\n",
    "\n",
    "    plt.plot(iterations, losses)\n",
    "    plt.xlabel('Batch number')\n",
    "    plt.ylabel('Loss')\n",
    "    \n",
    "# Load the network\n",
    "else:\n",
    "    net.load_state_dict(torch.load('net.pt'))"
   ]
  },
  {
   "cell_type": "markdown",
   "metadata": {},
   "source": [
    "Let's compute the accuracy on the test set."
   ]
  },
  {
   "cell_type": "code",
   "execution_count": 40,
   "metadata": {},
   "outputs": [],
   "source": [
    "csv_test = pd.read_csv(testfile, header=None)\n",
    "dataset_test = YelpReviewsDataset(tokenizer=tokenizer, vocab=vocab, csv=csv_test,\\\n",
    "                                  transform=ToTensor())\n",
    "\n",
    "dataloader_test = DataLoader(dataset_test, batch_size=1, shuffle=False, num_workers=0, collate_fn=collate_fn)\n",
    "\n",
    "num_correct = 0\n",
    "misclassified = []\n",
    "\n",
    "for i_batch, batch in enumerate(dataloader_test):\n",
    "    documents = [[a.to(device) for a in b] for b in batch[1]]\n",
    "    targets = torch.tensor(batch[0]).to(device)\n",
    "    prediction, _, _ = net(documents)\n",
    "    _, ind = torch.max(prediction, dim=1)\n",
    "    if targets == ind:\n",
    "        num_correct += 1\n",
    "    else:\n",
    "        misclassified.append(i_batch)"
   ]
  },
  {
   "cell_type": "code",
   "execution_count": 41,
   "metadata": {},
   "outputs": [
    {
     "name": "stdout",
     "output_type": "stream",
     "text": [
      "Test accuracy = 0.9512368421052632\n"
     ]
    }
   ],
   "source": [
    "print('Test accuracy = ' + str(num_correct/len(dataloader_test)))"
   ]
  },
  {
   "cell_type": "markdown",
   "metadata": {},
   "source": [
    "Not bad, we hadn't even finished a single epoch of training. Let's see an example of what the network thinks is hard to classify."
   ]
  },
  {
   "cell_type": "code",
   "execution_count": 45,
   "metadata": {},
   "outputs": [
    {
     "name": "stdout",
     "output_type": "stream",
     "text": [
      "The network predicted negative, but the example is labeled positive.\n",
      "\n",
      "The review is:\n",
      "i went to a bob <unk> laser show as a ' favor ' for my husband . . . the <unk> were really cool . i would not recommend them if you are <unk> to <unk> , or have a <unk> <unk> , such as <unk> . \\ni think if the music was more my taste , it would have been awesome . "
     ]
    }
   ],
   "source": [
    "def print_prediction(batch):\n",
    "    documents = [[a.to(device) for a in b] for b in batch[1]]\n",
    "    targets = torch.tensor(batch[0]).to(device)\n",
    "    prediction, _, _ = net(documents)\n",
    "    _, ind = torch.max(prediction, dim=1)\n",
    "\n",
    "    print('The network predicted ' + ('negative' if ind == 0 else 'positive') + \\\n",
    "          ', but the example is labeled ' + ('negative' if targets == 0 else 'positive') + '.')\n",
    "    print('')\n",
    "    print('The review is:')\n",
    "    for sentence in documents[0]:\n",
    "        for word in sentence:\n",
    "            print(vocab.itos[word], end=' ')\n",
    "            \n",
    "batch = dataset_test[misclassified[0]]\n",
    "print_prediction(batch)"
   ]
  },
  {
   "cell_type": "markdown",
   "metadata": {},
   "source": [
    "This review is tricky, the person did not like their experience, but they think that someone else with different tastes might. Personally, I would have also have also mislabeled this as negative.\n",
    "\n",
    "Let's see another."
   ]
  },
  {
   "cell_type": "code",
   "execution_count": 46,
   "metadata": {},
   "outputs": [
    {
     "name": "stdout",
     "output_type": "stream",
     "text": [
      "The network predicted negative, but the example is labeled positive.\n",
      "\n",
      "The review is:\n",
      "seattle may have just won the 2014 super bowl , but the steelers still rock with six rings , baby ! ! ! just stating what all <unk> fans know a steel <unk> is still unmatched no matter what team claims the title of current super bowl <unk> . . go steelers ! ! ! "
     ]
    }
   ],
   "source": [
    "batch = dataset_test[misclassified[1]]\n",
    "print_prediction(batch)"
   ]
  },
  {
   "cell_type": "markdown",
   "metadata": {},
   "source": [
    "It's not clear what is being reviewed here (probably a stadium?), but the network should have been able to classify the sentiment as positive. Our dataset likely contains more reviews like this one, where the actual product being reviewed is never mentioned.\n",
    "\n",
    "Let's see one more."
   ]
  },
  {
   "cell_type": "code",
   "execution_count": 48,
   "metadata": {},
   "outputs": [
    {
     "name": "stdout",
     "output_type": "stream",
     "text": [
      "The network predicted negative, but the example is labeled positive.\n",
      "\n",
      "The review is:\n",
      "something different here . \\n\\nfood , <unk> , go there and drink the beers from the beer cave . i don ' t think you have to wait for the server to open your beer , they ' ll notice and charge your accordingly . it ' s all walk in and self service beer , why don ' t more places do that ? ! <unk> "
     ]
    }
   ],
   "source": [
    "batch = dataset_test[misclassified[2]]\n",
    "print_prediction(batch)"
   ]
  },
  {
   "cell_type": "markdown",
   "metadata": {},
   "source": [
    "It seems that the network is not making mistakes on examples with an obvious sentiment class, and is misclassifying the reviews which require more subtlety.\n",
    "\n",
    "Now let's visualize the attention the network is giving to each word and sentence."
   ]
  },
  {
   "cell_type": "code",
   "execution_count": 49,
   "metadata": {},
   "outputs": [],
   "source": [
    "def split_into_sentences(line):\n",
    "    tokenized_line = np.array([vocab[token] for token in tokenizer(line)])\n",
    "    punctuation = (tokenized_line==vocab[\".\"]) | (tokenized_line==vocab[\"!\"]) | (tokenized_line==vocab[\"?\"])\n",
    "    split_line = np.split(tokenized_line, (punctuation).nonzero()[0]+1)\n",
    "    if len(split_line[-1]) == 0:\n",
    "        return [torch.from_numpy(a).to(device) for a in split_line[:-1]]\n",
    "    else:\n",
    "        return [torch.from_numpy(a).to(device) for a in split_line]\n",
    "    \n",
    "### This block is modified from https://gist.github.com/ihsgnef/f13c35cd46624c8f458a4d23589ac768\n",
    "### The idea is to visualize the attention by placing each word in a colored\n",
    "### HTML span, and then render the HTML\n",
    "import matplotlib\n",
    "\n",
    "def colorize(review, sentAttn, docAttn):\n",
    "    cmapWord = matplotlib.cm.get_cmap('Blues')\n",
    "    cmapSent = matplotlib.cm.get_cmap('Reds')\n",
    "    template_document = '<div style=\"background-color: {}; padding: 3pt;\">{}</div>'\n",
    "    template_sentence = '<span class=\"barcode\"; style=\"font-size:9pt; color: black; background-color: {}\">{}</span>'\n",
    "    doc_string = ''\n",
    "    \n",
    "    text = []\n",
    "    for t, sentence in enumerate(review[0]):\n",
    "        text.append([])\n",
    "        for word in sentence:\n",
    "            w = vocab.itos[word]\n",
    "            # <unk> appears as an HTML tag, so change this manually\n",
    "            text[t].append('&lt;unk&gt;' if w == '<unk>' else w)\n",
    "    \n",
    "    for t, sentence in enumerate(text):\n",
    "        sentence_string = ''\n",
    "        for k, word in enumerate(sentence):\n",
    "            color = matplotlib.colors.rgb2hex(cmapWord(sentAttn[t][k])[:3])\n",
    "            sentence_string += template_sentence.format(color, '&nbsp;' + word + '&nbsp;')\n",
    "        sAttn = docAttn[t]\n",
    "        sColor = matplotlib.colors.rgb2hex(cmapSent(docAttn[t])[:3])\n",
    "        doc_string += template_document.format(sColor, sentence_string)\n",
    "        \n",
    "    return doc_string\n",
    "###\n",
    "\n",
    "from IPython.display import display, HTML\n",
    "\n",
    "def vis_review(review):\n",
    "    with torch.no_grad():\n",
    "        processed_doc = [split_into_sentences(review)]\n",
    "        prediction, sentAttn, docAttn = net(processed_doc)\n",
    "        numpySentAttn = [s.view(-1).cpu().numpy() for s in sentAttn[0]]\n",
    "        numpyDocAttn = docAttn[0].view(-1).cpu().numpy()\n",
    "        html = colorize(processed_doc, numpySentAttn, numpyDocAttn)\n",
    "        display(HTML(html))\n",
    "        _, ind = torch.max(prediction, dim=1)\n",
    "        pred_prob = F.softmax(prediction, dim=1)[0][ind].cpu().numpy()[0]\n",
    "        print('The network predicted ' + ('negative' if ind == 0 else 'positive') + \\\n",
    "              ' with probability ' + str(pred_prob) + '.')"
   ]
  },
  {
   "cell_type": "code",
   "execution_count": 50,
   "metadata": {},
   "outputs": [
    {
     "data": {
      "text/html": [
       "<div style=\"background-color: #fee1d4; padding: 3pt;\"><span class=\"barcode\"; style=\"font-size:9pt; color: black; background-color: #c3daee\">&nbsp;unfortunately&nbsp;</span><span class=\"barcode\"; style=\"font-size:9pt; color: black; background-color: #f2f7fd\">&nbsp;,&nbsp;</span><span class=\"barcode\"; style=\"font-size:9pt; color: black; background-color: #f5f9fe\">&nbsp;the&nbsp;</span><span class=\"barcode\"; style=\"font-size:9pt; color: black; background-color: #f4f9fe\">&nbsp;frustration&nbsp;</span><span class=\"barcode\"; style=\"font-size:9pt; color: black; background-color: #f5f9fe\">&nbsp;of&nbsp;</span><span class=\"barcode\"; style=\"font-size:9pt; color: black; background-color: #f5fafe\">&nbsp;being&nbsp;</span><span class=\"barcode\"; style=\"font-size:9pt; color: black; background-color: #f5fafe\">&nbsp;dr&nbsp;</span><span class=\"barcode\"; style=\"font-size:9pt; color: black; background-color: #f5fafe\">&nbsp;&lt;unk&gt;&nbsp;</span><span class=\"barcode\"; style=\"font-size:9pt; color: black; background-color: #f5fafe\">&nbsp;'&nbsp;</span><span class=\"barcode\"; style=\"font-size:9pt; color: black; background-color: #f5f9fe\">&nbsp;s&nbsp;</span><span class=\"barcode\"; style=\"font-size:9pt; color: black; background-color: #f2f8fd\">&nbsp;patient&nbsp;</span><span class=\"barcode\"; style=\"font-size:9pt; color: black; background-color: #f5fafe\">&nbsp;is&nbsp;</span><span class=\"barcode\"; style=\"font-size:9pt; color: black; background-color: #f5fafe\">&nbsp;a&nbsp;</span><span class=\"barcode\"; style=\"font-size:9pt; color: black; background-color: #ecf4fb\">&nbsp;repeat&nbsp;</span><span class=\"barcode\"; style=\"font-size:9pt; color: black; background-color: #f5f9fe\">&nbsp;of&nbsp;</span><span class=\"barcode\"; style=\"font-size:9pt; color: black; background-color: #f5f9fe\">&nbsp;the&nbsp;</span><span class=\"barcode\"; style=\"font-size:9pt; color: black; background-color: #f5f9fe\">&nbsp;experience&nbsp;</span><span class=\"barcode\"; style=\"font-size:9pt; color: black; background-color: #f5fafe\">&nbsp;i&nbsp;</span><span class=\"barcode\"; style=\"font-size:9pt; color: black; background-color: #f6faff\">&nbsp;'&nbsp;</span><span class=\"barcode\"; style=\"font-size:9pt; color: black; background-color: #f6faff\">&nbsp;ve&nbsp;</span><span class=\"barcode\"; style=\"font-size:9pt; color: black; background-color: #f6faff\">&nbsp;had&nbsp;</span><span class=\"barcode\"; style=\"font-size:9pt; color: black; background-color: #f6faff\">&nbsp;with&nbsp;</span><span class=\"barcode\"; style=\"font-size:9pt; color: black; background-color: #f5fafe\">&nbsp;so&nbsp;</span><span class=\"barcode\"; style=\"font-size:9pt; color: black; background-color: #f6faff\">&nbsp;many&nbsp;</span><span class=\"barcode\"; style=\"font-size:9pt; color: black; background-color: #f5fafe\">&nbsp;other&nbsp;</span><span class=\"barcode\"; style=\"font-size:9pt; color: black; background-color: #f5f9fe\">&nbsp;doctors&nbsp;</span><span class=\"barcode\"; style=\"font-size:9pt; color: black; background-color: #f5fafe\">&nbsp;in&nbsp;</span><span class=\"barcode\"; style=\"font-size:9pt; color: black; background-color: #f5fafe\">&nbsp;nyc&nbsp;</span><span class=\"barcode\"; style=\"font-size:9pt; color: black; background-color: #f4f9fe\">&nbsp;--&nbsp;</span><span class=\"barcode\"; style=\"font-size:9pt; color: black; background-color: #ebf3fb\">&nbsp;good&nbsp;</span><span class=\"barcode\"; style=\"font-size:9pt; color: black; background-color: #f5fafe\">&nbsp;doctor&nbsp;</span><span class=\"barcode\"; style=\"font-size:9pt; color: black; background-color: #f5f9fe\">&nbsp;,&nbsp;</span><span class=\"barcode\"; style=\"font-size:9pt; color: black; background-color: #d0e2f2\">&nbsp;terrible&nbsp;</span><span class=\"barcode\"; style=\"font-size:9pt; color: black; background-color: #e7f1fa\">&nbsp;staff&nbsp;</span><span class=\"barcode\"; style=\"font-size:9pt; color: black; background-color: #f5fafe\">&nbsp;.&nbsp;</span></div><div style=\"background-color: #fee1d4; padding: 3pt;\"><span class=\"barcode\"; style=\"font-size:9pt; color: black; background-color: #d3e4f3\">&nbsp;it&nbsp;</span><span class=\"barcode\"; style=\"font-size:9pt; color: black; background-color: #5fa6d1\">&nbsp;seems&nbsp;</span><span class=\"barcode\"; style=\"font-size:9pt; color: black; background-color: #eff6fc\">&nbsp;that&nbsp;</span><span class=\"barcode\"; style=\"font-size:9pt; color: black; background-color: #f0f6fd\">&nbsp;his&nbsp;</span><span class=\"barcode\"; style=\"font-size:9pt; color: black; background-color: #f2f7fd\">&nbsp;staff&nbsp;</span><span class=\"barcode\"; style=\"font-size:9pt; color: black; background-color: #f3f8fe\">&nbsp;simply&nbsp;</span><span class=\"barcode\"; style=\"font-size:9pt; color: black; background-color: #f0f6fd\">&nbsp;never&nbsp;</span><span class=\"barcode\"; style=\"font-size:9pt; color: black; background-color: #edf4fc\">&nbsp;answers&nbsp;</span><span class=\"barcode\"; style=\"font-size:9pt; color: black; background-color: #f1f7fd\">&nbsp;the&nbsp;</span><span class=\"barcode\"; style=\"font-size:9pt; color: black; background-color: #f4f9fe\">&nbsp;phone&nbsp;</span><span class=\"barcode\"; style=\"font-size:9pt; color: black; background-color: #f5f9fe\">&nbsp;.&nbsp;</span></div><div style=\"background-color: #fee0d2; padding: 3pt;\"><span class=\"barcode\"; style=\"font-size:9pt; color: black; background-color: #cde0f1\">&nbsp;it&nbsp;</span><span class=\"barcode\"; style=\"font-size:9pt; color: black; background-color: #e3eef9\">&nbsp;usually&nbsp;</span><span class=\"barcode\"; style=\"font-size:9pt; color: black; background-color: #eef5fc\">&nbsp;takes&nbsp;</span><span class=\"barcode\"; style=\"font-size:9pt; color: black; background-color: #f0f6fd\">&nbsp;2&nbsp;</span><span class=\"barcode\"; style=\"font-size:9pt; color: black; background-color: #f2f8fd\">&nbsp;hours&nbsp;</span><span class=\"barcode\"; style=\"font-size:9pt; color: black; background-color: #f1f7fd\">&nbsp;of&nbsp;</span><span class=\"barcode\"; style=\"font-size:9pt; color: black; background-color: #dfecf7\">&nbsp;repeated&nbsp;</span><span class=\"barcode\"; style=\"font-size:9pt; color: black; background-color: #d4e4f4\">&nbsp;calling&nbsp;</span><span class=\"barcode\"; style=\"font-size:9pt; color: black; background-color: #eff6fc\">&nbsp;to&nbsp;</span><span class=\"barcode\"; style=\"font-size:9pt; color: black; background-color: #f3f8fe\">&nbsp;get&nbsp;</span><span class=\"barcode\"; style=\"font-size:9pt; color: black; background-color: #f0f6fd\">&nbsp;an&nbsp;</span><span class=\"barcode\"; style=\"font-size:9pt; color: black; background-color: #dfecf7\">&nbsp;answer&nbsp;</span><span class=\"barcode\"; style=\"font-size:9pt; color: black; background-color: #f3f8fe\">&nbsp;.&nbsp;</span></div><div style=\"background-color: #fee0d2; padding: 3pt;\"><span class=\"barcode\"; style=\"font-size:9pt; color: black; background-color: #e3eef8\">&nbsp;who&nbsp;</span><span class=\"barcode\"; style=\"font-size:9pt; color: black; background-color: #d5e5f4\">&nbsp;has&nbsp;</span><span class=\"barcode\"; style=\"font-size:9pt; color: black; background-color: #e8f1fa\">&nbsp;time&nbsp;</span><span class=\"barcode\"; style=\"font-size:9pt; color: black; background-color: #e7f1fa\">&nbsp;for&nbsp;</span><span class=\"barcode\"; style=\"font-size:9pt; color: black; background-color: #e8f1fa\">&nbsp;that&nbsp;</span><span class=\"barcode\"; style=\"font-size:9pt; color: black; background-color: #ecf4fb\">&nbsp;or&nbsp;</span><span class=\"barcode\"; style=\"font-size:9pt; color: black; background-color: #ecf4fb\">&nbsp;wants&nbsp;</span><span class=\"barcode\"; style=\"font-size:9pt; color: black; background-color: #eaf3fb\">&nbsp;to&nbsp;</span><span class=\"barcode\"; style=\"font-size:9pt; color: black; background-color: #edf4fc\">&nbsp;deal&nbsp;</span><span class=\"barcode\"; style=\"font-size:9pt; color: black; background-color: #eef5fc\">&nbsp;with&nbsp;</span><span class=\"barcode\"; style=\"font-size:9pt; color: black; background-color: #e2edf8\">&nbsp;it&nbsp;</span><span class=\"barcode\"; style=\"font-size:9pt; color: black; background-color: #e3eef9\">&nbsp;?&nbsp;</span></div><div style=\"background-color: #fedfd0; padding: 3pt;\"><span class=\"barcode\"; style=\"font-size:9pt; color: black; background-color: #eef5fc\">&nbsp;i&nbsp;</span><span class=\"barcode\"; style=\"font-size:9pt; color: black; background-color: #eff6fc\">&nbsp;have&nbsp;</span><span class=\"barcode\"; style=\"font-size:9pt; color: black; background-color: #f1f7fd\">&nbsp;run&nbsp;</span><span class=\"barcode\"; style=\"font-size:9pt; color: black; background-color: #f2f7fd\">&nbsp;into&nbsp;</span><span class=\"barcode\"; style=\"font-size:9pt; color: black; background-color: #f1f7fd\">&nbsp;this&nbsp;</span><span class=\"barcode\"; style=\"font-size:9pt; color: black; background-color: #eff6fc\">&nbsp;problem&nbsp;</span><span class=\"barcode\"; style=\"font-size:9pt; color: black; background-color: #f0f6fd\">&nbsp;with&nbsp;</span><span class=\"barcode\"; style=\"font-size:9pt; color: black; background-color: #f0f6fd\">&nbsp;many&nbsp;</span><span class=\"barcode\"; style=\"font-size:9pt; color: black; background-color: #edf4fc\">&nbsp;other&nbsp;</span><span class=\"barcode\"; style=\"font-size:9pt; color: black; background-color: #eaf2fb\">&nbsp;doctors&nbsp;</span><span class=\"barcode\"; style=\"font-size:9pt; color: black; background-color: #e7f0fa\">&nbsp;and&nbsp;</span><span class=\"barcode\"; style=\"font-size:9pt; color: black; background-color: #edf4fc\">&nbsp;i&nbsp;</span><span class=\"barcode\"; style=\"font-size:9pt; color: black; background-color: #dbe9f6\">&nbsp;just&nbsp;</span><span class=\"barcode\"; style=\"font-size:9pt; color: black; background-color: #ebf3fb\">&nbsp;don&nbsp;</span><span class=\"barcode\"; style=\"font-size:9pt; color: black; background-color: #ebf3fb\">&nbsp;'&nbsp;</span><span class=\"barcode\"; style=\"font-size:9pt; color: black; background-color: #eaf3fb\">&nbsp;t&nbsp;</span><span class=\"barcode\"; style=\"font-size:9pt; color: black; background-color: #f1f7fd\">&nbsp;get&nbsp;</span><span class=\"barcode\"; style=\"font-size:9pt; color: black; background-color: #eef5fc\">&nbsp;it&nbsp;</span><span class=\"barcode\"; style=\"font-size:9pt; color: black; background-color: #f2f7fd\">&nbsp;.&nbsp;</span></div><div style=\"background-color: #fee0d2; padding: 3pt;\"><span class=\"barcode\"; style=\"font-size:9pt; color: black; background-color: #e8f1fa\">&nbsp;you&nbsp;</span><span class=\"barcode\"; style=\"font-size:9pt; color: black; background-color: #eef5fc\">&nbsp;have&nbsp;</span><span class=\"barcode\"; style=\"font-size:9pt; color: black; background-color: #eef5fc\">&nbsp;office&nbsp;</span><span class=\"barcode\"; style=\"font-size:9pt; color: black; background-color: #eef5fc\">&nbsp;workers&nbsp;</span><span class=\"barcode\"; style=\"font-size:9pt; color: black; background-color: #edf4fc\">&nbsp;,&nbsp;</span><span class=\"barcode\"; style=\"font-size:9pt; color: black; background-color: #eef5fc\">&nbsp;you&nbsp;</span><span class=\"barcode\"; style=\"font-size:9pt; color: black; background-color: #eff6fc\">&nbsp;have&nbsp;</span><span class=\"barcode\"; style=\"font-size:9pt; color: black; background-color: #eaf2fb\">&nbsp;patients&nbsp;</span><span class=\"barcode\"; style=\"font-size:9pt; color: black; background-color: #eff6fc\">&nbsp;with&nbsp;</span><span class=\"barcode\"; style=\"font-size:9pt; color: black; background-color: #f2f7fd\">&nbsp;medical&nbsp;</span><span class=\"barcode\"; style=\"font-size:9pt; color: black; background-color: #f1f7fd\">&nbsp;needs&nbsp;</span><span class=\"barcode\"; style=\"font-size:9pt; color: black; background-color: #eff6fc\">&nbsp;,&nbsp;</span><span class=\"barcode\"; style=\"font-size:9pt; color: black; background-color: #eef5fc\">&nbsp;why&nbsp;</span><span class=\"barcode\"; style=\"font-size:9pt; color: black; background-color: #eff6fc\">&nbsp;isn&nbsp;</span><span class=\"barcode\"; style=\"font-size:9pt; color: black; background-color: #eef5fc\">&nbsp;'&nbsp;</span><span class=\"barcode\"; style=\"font-size:9pt; color: black; background-color: #eef5fc\">&nbsp;t&nbsp;</span><span class=\"barcode\"; style=\"font-size:9pt; color: black; background-color: #eef5fc\">&nbsp;anyone&nbsp;</span><span class=\"barcode\"; style=\"font-size:9pt; color: black; background-color: #eef5fc\">&nbsp;answering&nbsp;</span><span class=\"barcode\"; style=\"font-size:9pt; color: black; background-color: #edf4fc\">&nbsp;the&nbsp;</span><span class=\"barcode\"; style=\"font-size:9pt; color: black; background-color: #eff6fc\">&nbsp;phone&nbsp;</span><span class=\"barcode\"; style=\"font-size:9pt; color: black; background-color: #eaf2fb\">&nbsp;?&nbsp;</span></div><div style=\"background-color: #fedfd0; padding: 3pt;\"><span class=\"barcode\"; style=\"font-size:9pt; color: black; background-color: #d1e2f3\">&nbsp;it&nbsp;</span><span class=\"barcode\"; style=\"font-size:9pt; color: black; background-color: #e6f0f9\">&nbsp;'&nbsp;</span><span class=\"barcode\"; style=\"font-size:9pt; color: black; background-color: #e8f1fa\">&nbsp;s&nbsp;</span><span class=\"barcode\"; style=\"font-size:9pt; color: black; background-color: #e5eff9\">&nbsp;&lt;unk&gt;&nbsp;</span><span class=\"barcode\"; style=\"font-size:9pt; color: black; background-color: #deebf7\">&nbsp;and&nbsp;</span><span class=\"barcode\"; style=\"font-size:9pt; color: black; background-color: #e5eff9\">&nbsp;not&nbsp;</span><span class=\"barcode\"; style=\"font-size:9pt; color: black; background-color: #eaf2fb\">&nbsp;work&nbsp;</span><span class=\"barcode\"; style=\"font-size:9pt; color: black; background-color: #deebf7\">&nbsp;the&nbsp;</span><span class=\"barcode\"; style=\"font-size:9pt; color: black; background-color: #e3eef9\">&nbsp;aggravation&nbsp;</span><span class=\"barcode\"; style=\"font-size:9pt; color: black; background-color: #f1f7fd\">&nbsp;.&nbsp;</span></div><div style=\"background-color: #fee1d4; padding: 3pt;\"><span class=\"barcode\"; style=\"font-size:9pt; color: black; background-color: #f4f9fe\">&nbsp;it&nbsp;</span><span class=\"barcode\"; style=\"font-size:9pt; color: black; background-color: #f5fafe\">&nbsp;'&nbsp;</span><span class=\"barcode\"; style=\"font-size:9pt; color: black; background-color: #f5fafe\">&nbsp;s&nbsp;</span><span class=\"barcode\"; style=\"font-size:9pt; color: black; background-color: #f5fafe\">&nbsp;with&nbsp;</span><span class=\"barcode\"; style=\"font-size:9pt; color: black; background-color: #f5fafe\">&nbsp;regret&nbsp;</span><span class=\"barcode\"; style=\"font-size:9pt; color: black; background-color: #f5fafe\">&nbsp;that&nbsp;</span><span class=\"barcode\"; style=\"font-size:9pt; color: black; background-color: #f5fafe\">&nbsp;i&nbsp;</span><span class=\"barcode\"; style=\"font-size:9pt; color: black; background-color: #f5fafe\">&nbsp;feel&nbsp;</span><span class=\"barcode\"; style=\"font-size:9pt; color: black; background-color: #f5fafe\">&nbsp;that&nbsp;</span><span class=\"barcode\"; style=\"font-size:9pt; color: black; background-color: #f5fafe\">&nbsp;i&nbsp;</span><span class=\"barcode\"; style=\"font-size:9pt; color: black; background-color: #f5fafe\">&nbsp;have&nbsp;</span><span class=\"barcode\"; style=\"font-size:9pt; color: black; background-color: #f5fafe\">&nbsp;to&nbsp;</span><span class=\"barcode\"; style=\"font-size:9pt; color: black; background-color: #f3f8fe\">&nbsp;give&nbsp;</span><span class=\"barcode\"; style=\"font-size:9pt; color: black; background-color: #ecf4fb\">&nbsp;dr&nbsp;</span><span class=\"barcode\"; style=\"font-size:9pt; color: black; background-color: #e7f0fa\">&nbsp;&lt;unk&gt;&nbsp;</span><span class=\"barcode\"; style=\"font-size:9pt; color: black; background-color: #a5cde3\">&nbsp;2&nbsp;</span><span class=\"barcode\"; style=\"font-size:9pt; color: black; background-color: #a9cfe5\">&nbsp;stars&nbsp;</span><span class=\"barcode\"; style=\"font-size:9pt; color: black; background-color: #f3f8fe\">&nbsp;.&nbsp;</span></div>"
      ],
      "text/plain": [
       "<IPython.core.display.HTML object>"
      ]
     },
     "metadata": {},
     "output_type": "display_data"
    },
    {
     "name": "stdout",
     "output_type": "stream",
     "text": [
      "The network predicted negative with probability 0.9998715.\n"
     ]
    }
   ],
   "source": [
    "review = csv.iloc[0,1].replace('Dr.', 'Dr')\n",
    "vis_review(review)"
   ]
  },
  {
   "cell_type": "markdown",
   "metadata": {},
   "source": [
    "The first review of the dataset is correctly classified as negative. Some words related to sentiment have been given higher weights (\"unfortunately\", \"terrible\"), but the attention is still not completely human interpretable. From a human perspective, one may conclude that the attention is underdeveloped given the limited training. In particular, it seems that the sentence level attention (shown in red) has yet to develop sufficiently with the amount of training completed, all the sentences are given nearly the same weight. However, all of this is from a human interpretability standpoint. It may be the case that this way of assigning attention may be effective for this particular task. We did get ~95% accuracy on the test set after all.\n",
    "\n",
    "I have modified all \"Dr.\" to \"Dr\" in this review to show something quite interesting with the last sentence (it's classified correctly without this change). The words \"2 stars\" appears in the review. This is the label for this review in the review itself! The network correctly weights \"2 stars\" with a high level of attention.\n",
    "\n",
    "Now we can try this on the $3^{rd}$ misclassified review we had selected. Because of the attention visualization, we can qualitatively test why the review was misclassified."
   ]
  },
  {
   "cell_type": "code",
   "execution_count": 51,
   "metadata": {},
   "outputs": [
    {
     "data": {
      "text/html": [
       "<div style=\"background-color: #fee5d9; padding: 3pt;\"><span class=\"barcode\"; style=\"font-size:9pt; color: black; background-color: #c1d9ed\">&nbsp;something&nbsp;</span><span class=\"barcode\"; style=\"font-size:9pt; color: black; background-color: #89bedc\">&nbsp;different&nbsp;</span><span class=\"barcode\"; style=\"font-size:9pt; color: black; background-color: #c7dcef\">&nbsp;here&nbsp;</span><span class=\"barcode\"; style=\"font-size:9pt; color: black; background-color: #ecf4fb\">&nbsp;.&nbsp;</span></div><div style=\"background-color: #fcbfa7; padding: 3pt;\"><span class=\"barcode\"; style=\"font-size:9pt; color: black; background-color: #cde0f1\">&nbsp;\\n\\nfood&nbsp;</span><span class=\"barcode\"; style=\"font-size:9pt; color: black; background-color: #eaf2fb\">&nbsp;,&nbsp;</span><span class=\"barcode\"; style=\"font-size:9pt; color: black; background-color: #ecf4fb\">&nbsp;&lt;unk&gt;&nbsp;</span><span class=\"barcode\"; style=\"font-size:9pt; color: black; background-color: #e7f0fa\">&nbsp;,&nbsp;</span><span class=\"barcode\"; style=\"font-size:9pt; color: black; background-color: #e7f1fa\">&nbsp;go&nbsp;</span><span class=\"barcode\"; style=\"font-size:9pt; color: black; background-color: #eaf2fb\">&nbsp;there&nbsp;</span><span class=\"barcode\"; style=\"font-size:9pt; color: black; background-color: #eef5fc\">&nbsp;and&nbsp;</span><span class=\"barcode\"; style=\"font-size:9pt; color: black; background-color: #eef5fc\">&nbsp;drink&nbsp;</span><span class=\"barcode\"; style=\"font-size:9pt; color: black; background-color: #e8f1fa\">&nbsp;the&nbsp;</span><span class=\"barcode\"; style=\"font-size:9pt; color: black; background-color: #e6f0f9\">&nbsp;beers&nbsp;</span><span class=\"barcode\"; style=\"font-size:9pt; color: black; background-color: #eef5fc\">&nbsp;from&nbsp;</span><span class=\"barcode\"; style=\"font-size:9pt; color: black; background-color: #eef5fc\">&nbsp;the&nbsp;</span><span class=\"barcode\"; style=\"font-size:9pt; color: black; background-color: #f1f7fd\">&nbsp;beer&nbsp;</span><span class=\"barcode\"; style=\"font-size:9pt; color: black; background-color: #f2f7fd\">&nbsp;cave&nbsp;</span><span class=\"barcode\"; style=\"font-size:9pt; color: black; background-color: #f3f8fe\">&nbsp;.&nbsp;</span></div><div style=\"background-color: #fcbea5; padding: 3pt;\"><span class=\"barcode\"; style=\"font-size:9pt; color: black; background-color: #eff6fc\">&nbsp;i&nbsp;</span><span class=\"barcode\"; style=\"font-size:9pt; color: black; background-color: #f2f7fd\">&nbsp;don&nbsp;</span><span class=\"barcode\"; style=\"font-size:9pt; color: black; background-color: #f2f7fd\">&nbsp;'&nbsp;</span><span class=\"barcode\"; style=\"font-size:9pt; color: black; background-color: #f1f7fd\">&nbsp;t&nbsp;</span><span class=\"barcode\"; style=\"font-size:9pt; color: black; background-color: #f3f8fe\">&nbsp;think&nbsp;</span><span class=\"barcode\"; style=\"font-size:9pt; color: black; background-color: #f2f8fd\">&nbsp;you&nbsp;</span><span class=\"barcode\"; style=\"font-size:9pt; color: black; background-color: #f2f8fd\">&nbsp;have&nbsp;</span><span class=\"barcode\"; style=\"font-size:9pt; color: black; background-color: #f2f8fd\">&nbsp;to&nbsp;</span><span class=\"barcode\"; style=\"font-size:9pt; color: black; background-color: #f3f8fe\">&nbsp;wait&nbsp;</span><span class=\"barcode\"; style=\"font-size:9pt; color: black; background-color: #f2f8fd\">&nbsp;for&nbsp;</span><span class=\"barcode\"; style=\"font-size:9pt; color: black; background-color: #f2f8fd\">&nbsp;the&nbsp;</span><span class=\"barcode\"; style=\"font-size:9pt; color: black; background-color: #f2f8fd\">&nbsp;server&nbsp;</span><span class=\"barcode\"; style=\"font-size:9pt; color: black; background-color: #f2f8fd\">&nbsp;to&nbsp;</span><span class=\"barcode\"; style=\"font-size:9pt; color: black; background-color: #f3f8fe\">&nbsp;open&nbsp;</span><span class=\"barcode\"; style=\"font-size:9pt; color: black; background-color: #f2f8fd\">&nbsp;your&nbsp;</span><span class=\"barcode\"; style=\"font-size:9pt; color: black; background-color: #f4f9fe\">&nbsp;beer&nbsp;</span><span class=\"barcode\"; style=\"font-size:9pt; color: black; background-color: #f4f9fe\">&nbsp;,&nbsp;</span><span class=\"barcode\"; style=\"font-size:9pt; color: black; background-color: #f3f8fe\">&nbsp;they&nbsp;</span><span class=\"barcode\"; style=\"font-size:9pt; color: black; background-color: #f2f8fd\">&nbsp;'&nbsp;</span><span class=\"barcode\"; style=\"font-size:9pt; color: black; background-color: #ecf4fb\">&nbsp;ll&nbsp;</span><span class=\"barcode\"; style=\"font-size:9pt; color: black; background-color: #c1d9ed\">&nbsp;notice&nbsp;</span><span class=\"barcode\"; style=\"font-size:9pt; color: black; background-color: #eef5fc\">&nbsp;and&nbsp;</span><span class=\"barcode\"; style=\"font-size:9pt; color: black; background-color: #eff6fc\">&nbsp;charge&nbsp;</span><span class=\"barcode\"; style=\"font-size:9pt; color: black; background-color: #edf4fc\">&nbsp;your&nbsp;</span><span class=\"barcode\"; style=\"font-size:9pt; color: black; background-color: #f2f8fd\">&nbsp;accordingly&nbsp;</span><span class=\"barcode\"; style=\"font-size:9pt; color: black; background-color: #f3f8fe\">&nbsp;.&nbsp;</span></div><div style=\"background-color: #fcc3ab; padding: 3pt;\"><span class=\"barcode\"; style=\"font-size:9pt; color: black; background-color: #e4eff9\">&nbsp;it&nbsp;</span><span class=\"barcode\"; style=\"font-size:9pt; color: black; background-color: #ebf3fb\">&nbsp;'&nbsp;</span><span class=\"barcode\"; style=\"font-size:9pt; color: black; background-color: #eef5fc\">&nbsp;s&nbsp;</span><span class=\"barcode\"; style=\"font-size:9pt; color: black; background-color: #dfebf7\">&nbsp;all&nbsp;</span><span class=\"barcode\"; style=\"font-size:9pt; color: black; background-color: #eaf3fb\">&nbsp;walk&nbsp;</span><span class=\"barcode\"; style=\"font-size:9pt; color: black; background-color: #eef5fc\">&nbsp;in&nbsp;</span><span class=\"barcode\"; style=\"font-size:9pt; color: black; background-color: #ecf4fb\">&nbsp;and&nbsp;</span><span class=\"barcode\"; style=\"font-size:9pt; color: black; background-color: #f1f7fd\">&nbsp;self&nbsp;</span><span class=\"barcode\"; style=\"font-size:9pt; color: black; background-color: #eef5fc\">&nbsp;service&nbsp;</span><span class=\"barcode\"; style=\"font-size:9pt; color: black; background-color: #f1f7fd\">&nbsp;beer&nbsp;</span><span class=\"barcode\"; style=\"font-size:9pt; color: black; background-color: #f1f7fd\">&nbsp;,&nbsp;</span><span class=\"barcode\"; style=\"font-size:9pt; color: black; background-color: #eef5fc\">&nbsp;why&nbsp;</span><span class=\"barcode\"; style=\"font-size:9pt; color: black; background-color: #f0f6fd\">&nbsp;don&nbsp;</span><span class=\"barcode\"; style=\"font-size:9pt; color: black; background-color: #f1f7fd\">&nbsp;'&nbsp;</span><span class=\"barcode\"; style=\"font-size:9pt; color: black; background-color: #f0f6fd\">&nbsp;t&nbsp;</span><span class=\"barcode\"; style=\"font-size:9pt; color: black; background-color: #eef5fc\">&nbsp;more&nbsp;</span><span class=\"barcode\"; style=\"font-size:9pt; color: black; background-color: #edf4fc\">&nbsp;places&nbsp;</span><span class=\"barcode\"; style=\"font-size:9pt; color: black; background-color: #f0f6fd\">&nbsp;do&nbsp;</span><span class=\"barcode\"; style=\"font-size:9pt; color: black; background-color: #f0f6fd\">&nbsp;that&nbsp;</span><span class=\"barcode\"; style=\"font-size:9pt; color: black; background-color: #f1f7fd\">&nbsp;?&nbsp;</span></div><div style=\"background-color: #fff4ef; padding: 3pt;\"><span class=\"barcode\"; style=\"font-size:9pt; color: black; background-color: #08306b\">&nbsp;!&nbsp;</span></div><div style=\"background-color: #fdccb8; padding: 3pt;\"><span class=\"barcode\"; style=\"font-size:9pt; color: black; background-color: #08306b\">&nbsp;&lt;unk&gt;&nbsp;</span></div>"
      ],
      "text/plain": [
       "<IPython.core.display.HTML object>"
      ]
     },
     "metadata": {},
     "output_type": "display_data"
    },
    {
     "name": "stdout",
     "output_type": "stream",
     "text": [
      "The network predicted negative with probability 0.79980457.\n"
     ]
    }
   ],
   "source": [
    "review = csv_test.iloc[misclassified[2], 1]\n",
    "vis_review(review)"
   ]
  },
  {
   "cell_type": "markdown",
   "metadata": {},
   "source": [
    "This review doesn't contain strong adjectives, e.g. \"good\", \"bad\", that the network can use to classify the sentiment. Instead, it may be using a negative connotation of words like \"different\" and \"notice\" (it may be the case that people typically only \"notice\" bad things in their reviews). The network is only giving a confidence of $0.7998$ to its answer, instead of $0.9999$ in the previous example, indicating that it is indeed confused on the correct classification.\n",
    "\n",
    "Let's examine some random reviews from the test set."
   ]
  },
  {
   "cell_type": "code",
   "execution_count": 38,
   "metadata": {},
   "outputs": [
    {
     "data": {
      "text/html": [
       "<div style=\"background-color: #fedaca; padding: 3pt;\"><span class=\"barcode\"; style=\"font-size:9pt; color: black; background-color: #5ca4d0\">&nbsp;awesome&nbsp;</span><span class=\"barcode\"; style=\"font-size:9pt; color: black; background-color: #84bcdb\">&nbsp;place&nbsp;</span><span class=\"barcode\"; style=\"font-size:9pt; color: black; background-color: #f4f9fe\">&nbsp;!&nbsp;</span></div><div style=\"background-color: #fedaca; padding: 3pt;\"><span class=\"barcode\"; style=\"font-size:9pt; color: black; background-color: #e4eff9\">&nbsp;clean&nbsp;</span><span class=\"barcode\"; style=\"font-size:9pt; color: black; background-color: #f0f6fd\">&nbsp;,&nbsp;</span><span class=\"barcode\"; style=\"font-size:9pt; color: black; background-color: #e8f1fa\">&nbsp;creative&nbsp;</span><span class=\"barcode\"; style=\"font-size:9pt; color: black; background-color: #f4f9fe\">&nbsp;,&nbsp;</span><span class=\"barcode\"; style=\"font-size:9pt; color: black; background-color: #e5eff9\">&nbsp;safe&nbsp;</span><span class=\"barcode\"; style=\"font-size:9pt; color: black; background-color: #f0f6fd\">&nbsp;,&nbsp;</span><span class=\"barcode\"; style=\"font-size:9pt; color: black; background-color: #c4daee\">&nbsp;great&nbsp;</span><span class=\"barcode\"; style=\"font-size:9pt; color: black; background-color: #f2f8fd\">&nbsp;music&nbsp;</span><span class=\"barcode\"; style=\"font-size:9pt; color: black; background-color: #f2f7fd\">&nbsp;and&nbsp;</span><span class=\"barcode\"; style=\"font-size:9pt; color: black; background-color: #f2f8fd\">&nbsp;environment&nbsp;</span><span class=\"barcode\"; style=\"font-size:9pt; color: black; background-color: #f4f9fe\">&nbsp;for&nbsp;</span><span class=\"barcode\"; style=\"font-size:9pt; color: black; background-color: #f1f7fd\">&nbsp;imaginative&nbsp;</span><span class=\"barcode\"; style=\"font-size:9pt; color: black; background-color: #f5f9fe\">&nbsp;kids&nbsp;</span><span class=\"barcode\"; style=\"font-size:9pt; color: black; background-color: #f5fafe\">&nbsp;to&nbsp;</span><span class=\"barcode\"; style=\"font-size:9pt; color: black; background-color: #f5f9fe\">&nbsp;have&nbsp;</span><span class=\"barcode\"; style=\"font-size:9pt; color: black; background-color: #f5f9fe\">&nbsp;a&nbsp;</span><span class=\"barcode\"; style=\"font-size:9pt; color: black; background-color: #d0e2f2\">&nbsp;blast&nbsp;</span><span class=\"barcode\"; style=\"font-size:9pt; color: black; background-color: #f5fafe\">&nbsp;.&nbsp;</span></div><div style=\"background-color: #fedbcc; padding: 3pt;\"><span class=\"barcode\"; style=\"font-size:9pt; color: black; background-color: #d6e5f4\">&nbsp;our&nbsp;</span><span class=\"barcode\"; style=\"font-size:9pt; color: black; background-color: #eef5fc\">&nbsp;little&nbsp;</span><span class=\"barcode\"; style=\"font-size:9pt; color: black; background-color: #eef5fc\">&nbsp;one&nbsp;</span><span class=\"barcode\"; style=\"font-size:9pt; color: black; background-color: #d4e4f4\">&nbsp;just&nbsp;</span><span class=\"barcode\"; style=\"font-size:9pt; color: black; background-color: #e1edf8\">&nbsp;turned&nbsp;</span><span class=\"barcode\"; style=\"font-size:9pt; color: black; background-color: #ebf3fb\">&nbsp;6&nbsp;</span><span class=\"barcode\"; style=\"font-size:9pt; color: black; background-color: #ecf4fb\">&nbsp;and&nbsp;</span><span class=\"barcode\"; style=\"font-size:9pt; color: black; background-color: #eef5fc\">&nbsp;we&nbsp;</span><span class=\"barcode\"; style=\"font-size:9pt; color: black; background-color: #e7f1fa\">&nbsp;were&nbsp;</span><span class=\"barcode\"; style=\"font-size:9pt; color: black; background-color: #ecf4fb\">&nbsp;visiting&nbsp;</span><span class=\"barcode\"; style=\"font-size:9pt; color: black; background-color: #e6f0f9\">&nbsp;the&nbsp;</span><span class=\"barcode\"; style=\"font-size:9pt; color: black; background-color: #f0f6fd\">&nbsp;area&nbsp;</span><span class=\"barcode\"; style=\"font-size:9pt; color: black; background-color: #f2f7fd\">&nbsp;.&nbsp;</span></div><div style=\"background-color: #fedaca; padding: 3pt;\"><span class=\"barcode\"; style=\"font-size:9pt; color: black; background-color: #ecf4fb\">&nbsp;we&nbsp;</span><span class=\"barcode\"; style=\"font-size:9pt; color: black; background-color: #dfecf7\">&nbsp;weren&nbsp;</span><span class=\"barcode\"; style=\"font-size:9pt; color: black; background-color: #eaf3fb\">&nbsp;'&nbsp;</span><span class=\"barcode\"; style=\"font-size:9pt; color: black; background-color: #e9f2fa\">&nbsp;t&nbsp;</span><span class=\"barcode\"; style=\"font-size:9pt; color: black; background-color: #f2f7fd\">&nbsp;sure&nbsp;</span><span class=\"barcode\"; style=\"font-size:9pt; color: black; background-color: #f2f7fd\">&nbsp;if&nbsp;</span><span class=\"barcode\"; style=\"font-size:9pt; color: black; background-color: #eaf3fb\">&nbsp;this&nbsp;</span><span class=\"barcode\"; style=\"font-size:9pt; color: black; background-color: #e8f1fa\">&nbsp;place&nbsp;</span><span class=\"barcode\"; style=\"font-size:9pt; color: black; background-color: #eef5fc\">&nbsp;would&nbsp;</span><span class=\"barcode\"; style=\"font-size:9pt; color: black; background-color: #e1edf8\">&nbsp;be&nbsp;</span><span class=\"barcode\"; style=\"font-size:9pt; color: black; background-color: #e7f0fa\">&nbsp;fun&nbsp;</span><span class=\"barcode\"; style=\"font-size:9pt; color: black; background-color: #f1f7fd\">&nbsp;for&nbsp;</span><span class=\"barcode\"; style=\"font-size:9pt; color: black; background-color: #f2f7fd\">&nbsp;kids&nbsp;</span><span class=\"barcode\"; style=\"font-size:9pt; color: black; background-color: #f2f8fd\">&nbsp;older&nbsp;</span><span class=\"barcode\"; style=\"font-size:9pt; color: black; background-color: #f3f8fe\">&nbsp;than&nbsp;</span><span class=\"barcode\"; style=\"font-size:9pt; color: black; background-color: #f2f7fd\">&nbsp;say&nbsp;</span><span class=\"barcode\"; style=\"font-size:9pt; color: black; background-color: #f2f7fd\">&nbsp;4&nbsp;</span><span class=\"barcode\"; style=\"font-size:9pt; color: black; background-color: #f3f8fe\">&nbsp;or&nbsp;</span><span class=\"barcode\"; style=\"font-size:9pt; color: black; background-color: #eff6fc\">&nbsp;5&nbsp;</span><span class=\"barcode\"; style=\"font-size:9pt; color: black; background-color: #f3f8fe\">&nbsp;.&nbsp;</span></div><div style=\"background-color: #fedaca; padding: 3pt;\"><span class=\"barcode\"; style=\"font-size:9pt; color: black; background-color: #cbdef1\">&nbsp;she&nbsp;</span><span class=\"barcode\"; style=\"font-size:9pt; color: black; background-color: #eef5fc\">&nbsp;had&nbsp;</span><span class=\"barcode\"; style=\"font-size:9pt; color: black; background-color: #d3e4f3\">&nbsp;sooo&nbsp;</span><span class=\"barcode\"; style=\"font-size:9pt; color: black; background-color: #c2d9ee\">&nbsp;much&nbsp;</span><span class=\"barcode\"; style=\"font-size:9pt; color: black; background-color: #c1d9ed\">&nbsp;fun&nbsp;</span><span class=\"barcode\"; style=\"font-size:9pt; color: black; background-color: #f5f9fe\">&nbsp;!&nbsp;</span></div><div style=\"background-color: #fee1d3; padding: 3pt;\"><span class=\"barcode\"; style=\"font-size:9pt; color: black; background-color: #a8cee4\">&nbsp;reminded&nbsp;</span><span class=\"barcode\"; style=\"font-size:9pt; color: black; background-color: #e3eef9\">&nbsp;me&nbsp;</span><span class=\"barcode\"; style=\"font-size:9pt; color: black; background-color: #ecf4fb\">&nbsp;of&nbsp;</span><span class=\"barcode\"; style=\"font-size:9pt; color: black; background-color: #e4eff9\">&nbsp;sweet&nbsp;</span><span class=\"barcode\"; style=\"font-size:9pt; color: black; background-color: #eef5fc\">&nbsp;days&nbsp;</span><span class=\"barcode\"; style=\"font-size:9pt; color: black; background-color: #e9f2fa\">&nbsp;when&nbsp;</span><span class=\"barcode\"; style=\"font-size:9pt; color: black; background-color: #eef5fc\">&nbsp;i&nbsp;</span><span class=\"barcode\"; style=\"font-size:9pt; color: black; background-color: #deebf7\">&nbsp;was&nbsp;</span><span class=\"barcode\"; style=\"font-size:9pt; color: black; background-color: #eff6fc\">&nbsp;in&nbsp;</span><span class=\"barcode\"; style=\"font-size:9pt; color: black; background-color: #eff6fc\">&nbsp;&lt;unk&gt;&nbsp;</span><span class=\"barcode\"; style=\"font-size:9pt; color: black; background-color: #f1f7fd\">&nbsp;.&nbsp;</span></div><div style=\"background-color: #fedaca; padding: 3pt;\"><span class=\"barcode\"; style=\"font-size:9pt; color: black; background-color: #f2f7fd\">&nbsp;this&nbsp;</span><span class=\"barcode\"; style=\"font-size:9pt; color: black; background-color: #eff6fc\">&nbsp;is&nbsp;</span><span class=\"barcode\"; style=\"font-size:9pt; color: black; background-color: #e5eff9\">&nbsp;a&nbsp;</span><span class=\"barcode\"; style=\"font-size:9pt; color: black; background-color: #cadef0\">&nbsp;great&nbsp;</span><span class=\"barcode\"; style=\"font-size:9pt; color: black; background-color: #f3f8fe\">&nbsp;play&nbsp;</span><span class=\"barcode\"; style=\"font-size:9pt; color: black; background-color: #f0f6fd\">&nbsp;experience&nbsp;</span><span class=\"barcode\"; style=\"font-size:9pt; color: black; background-color: #eef5fc\">&nbsp;)&nbsp;</span><span class=\"barcode\"; style=\"font-size:9pt; color: black; background-color: #e8f1fa\">&nbsp;so&nbsp;</span><span class=\"barcode\"; style=\"font-size:9pt; color: black; background-color: #c8dcf0\">&nbsp;glad&nbsp;</span><span class=\"barcode\"; style=\"font-size:9pt; color: black; background-color: #f3f8fe\">&nbsp;we&nbsp;</span><span class=\"barcode\"; style=\"font-size:9pt; color: black; background-color: #f5fafe\">&nbsp;went&nbsp;</span><span class=\"barcode\"; style=\"font-size:9pt; color: black; background-color: #f5fafe\">&nbsp;and&nbsp;</span><span class=\"barcode\"; style=\"font-size:9pt; color: black; background-color: #f5fafe\">&nbsp;at&nbsp;</span><span class=\"barcode\"; style=\"font-size:9pt; color: black; background-color: #f4f9fe\">&nbsp;a&nbsp;</span><span class=\"barcode\"; style=\"font-size:9pt; color: black; background-color: #e3eef9\">&nbsp;great&nbsp;</span><span class=\"barcode\"; style=\"font-size:9pt; color: black; background-color: #f5fafe\">&nbsp;price&nbsp;</span><span class=\"barcode\"; style=\"font-size:9pt; color: black; background-color: #f5fafe\">&nbsp;!&nbsp;</span></div>"
      ],
      "text/plain": [
       "<IPython.core.display.HTML object>"
      ]
     },
     "metadata": {},
     "output_type": "display_data"
    },
    {
     "name": "stdout",
     "output_type": "stream",
     "text": [
      "The network predicted positive with probability 0.9996431.\n",
      "The correct label is positive.\n"
     ]
    },
    {
     "data": {
      "text/html": [
       "<div style=\"background-color: #fedecf; padding: 3pt;\"><span class=\"barcode\"; style=\"font-size:9pt; color: black; background-color: #eaf2fb\">&nbsp;&lt;unk&gt;&nbsp;</span><span class=\"barcode\"; style=\"font-size:9pt; color: black; background-color: #e3eef8\">&nbsp;for&nbsp;</span><span class=\"barcode\"; style=\"font-size:9pt; color: black; background-color: #e7f1fa\">&nbsp;the&nbsp;</span><span class=\"barcode\"; style=\"font-size:9pt; color: black; background-color: #81badb\">&nbsp;amazing&nbsp;</span><span class=\"barcode\"; style=\"font-size:9pt; color: black; background-color: #f2f8fd\">&nbsp;kindness&nbsp;</span><span class=\"barcode\"; style=\"font-size:9pt; color: black; background-color: #f4f9fe\">&nbsp;of&nbsp;</span><span class=\"barcode\"; style=\"font-size:9pt; color: black; background-color: #eff6fc\">&nbsp;the&nbsp;</span><span class=\"barcode\"; style=\"font-size:9pt; color: black; background-color: #e9f2fa\">&nbsp;staff&nbsp;</span><span class=\"barcode\"; style=\"font-size:9pt; color: black; background-color: #f2f7fd\">&nbsp;my&nbsp;</span><span class=\"barcode\"; style=\"font-size:9pt; color: black; background-color: #f2f7fd\">&nbsp;experience&nbsp;</span><span class=\"barcode\"; style=\"font-size:9pt; color: black; background-color: #f5f9fe\">&nbsp;would&nbsp;</span><span class=\"barcode\"; style=\"font-size:9pt; color: black; background-color: #f5f9fe\">&nbsp;have&nbsp;</span><span class=\"barcode\"; style=\"font-size:9pt; color: black; background-color: #f5fafe\">&nbsp;been&nbsp;</span><span class=\"barcode\"; style=\"font-size:9pt; color: black; background-color: #f5fafe\">&nbsp;a&nbsp;</span><span class=\"barcode\"; style=\"font-size:9pt; color: black; background-color: #f5fafe\">&nbsp;total&nbsp;</span><span class=\"barcode\"; style=\"font-size:9pt; color: black; background-color: #f4f9fe\">&nbsp;loss&nbsp;</span><span class=\"barcode\"; style=\"font-size:9pt; color: black; background-color: #f5f9fe\">&nbsp;.&nbsp;</span></div><div style=\"background-color: #fedccd; padding: 3pt;\"><span class=\"barcode\"; style=\"font-size:9pt; color: black; background-color: #c3daee\">&nbsp;very&nbsp;</span><span class=\"barcode\"; style=\"font-size:9pt; color: black; background-color: #a9cfe5\">&nbsp;dated&nbsp;</span><span class=\"barcode\"; style=\"font-size:9pt; color: black; background-color: #d3e4f3\">&nbsp;not&nbsp;</span><span class=\"barcode\"; style=\"font-size:9pt; color: black; background-color: #f4f9fe\">&nbsp;well&nbsp;</span><span class=\"barcode\"; style=\"font-size:9pt; color: black; background-color: #f5f9fe\">&nbsp;prepared&nbsp;</span><span class=\"barcode\"; style=\"font-size:9pt; color: black; background-color: #e6f0f9\">&nbsp;not&nbsp;</span><span class=\"barcode\"; style=\"font-size:9pt; color: black; background-color: #f2f7fd\">&nbsp;even&nbsp;</span><span class=\"barcode\"; style=\"font-size:9pt; color: black; background-color: #f3f8fe\">&nbsp;properly&nbsp;</span><span class=\"barcode\"; style=\"font-size:9pt; color: black; background-color: #f5fafe\">&nbsp;heated&nbsp;</span><span class=\"barcode\"; style=\"font-size:9pt; color: black; background-color: #f6faff\">&nbsp;vintage&nbsp;</span><span class=\"barcode\"; style=\"font-size:9pt; color: black; background-color: #f6faff\">&nbsp;&lt;unk&gt;&nbsp;</span><span class=\"barcode\"; style=\"font-size:9pt; color: black; background-color: #f5fafe\">&nbsp;vegetarian&nbsp;</span><span class=\"barcode\"; style=\"font-size:9pt; color: black; background-color: #f5fafe\">&nbsp;fare&nbsp;</span><span class=\"barcode\"; style=\"font-size:9pt; color: black; background-color: #f6faff\">&nbsp;.&nbsp;</span></div><div style=\"background-color: #fedecf; padding: 3pt;\"><span class=\"barcode\"; style=\"font-size:9pt; color: black; background-color: #eff6fc\">&nbsp;wish&nbsp;</span><span class=\"barcode\"; style=\"font-size:9pt; color: black; background-color: #eff6fc\">&nbsp;i&nbsp;</span><span class=\"barcode\"; style=\"font-size:9pt; color: black; background-color: #eef5fc\">&nbsp;could&nbsp;</span><span class=\"barcode\"; style=\"font-size:9pt; color: black; background-color: #eaf3fb\">&nbsp;have&nbsp;</span><span class=\"barcode\"; style=\"font-size:9pt; color: black; background-color: #d7e6f5\">&nbsp;liked&nbsp;</span><span class=\"barcode\"; style=\"font-size:9pt; color: black; background-color: #eff6fc\">&nbsp;it&nbsp;</span><span class=\"barcode\"; style=\"font-size:9pt; color: black; background-color: #e7f0fa\">&nbsp;but&nbsp;</span><span class=\"barcode\"; style=\"font-size:9pt; color: black; background-color: #eaf2fb\">&nbsp;i&nbsp;</span><span class=\"barcode\"; style=\"font-size:9pt; color: black; background-color: #e8f1fa\">&nbsp;couldn&nbsp;</span><span class=\"barcode\"; style=\"font-size:9pt; color: black; background-color: #e4eff9\">&nbsp;'&nbsp;</span><span class=\"barcode\"; style=\"font-size:9pt; color: black; background-color: #e6f0f9\">&nbsp;t&nbsp;</span><span class=\"barcode\"; style=\"font-size:9pt; color: black; background-color: #eef5fc\">&nbsp;even&nbsp;</span><span class=\"barcode\"; style=\"font-size:9pt; color: black; background-color: #eef5fc\">&nbsp;eat&nbsp;</span><span class=\"barcode\"; style=\"font-size:9pt; color: black; background-color: #ecf4fb\">&nbsp;it&nbsp;</span><span class=\"barcode\"; style=\"font-size:9pt; color: black; background-color: #f0f6fd\">&nbsp;.&nbsp;</span></div><div style=\"background-color: #fedccd; padding: 3pt;\"><span class=\"barcode\"; style=\"font-size:9pt; color: black; background-color: #eef5fc\">&nbsp;cold&nbsp;</span><span class=\"barcode\"; style=\"font-size:9pt; color: black; background-color: #f5f9fe\">&nbsp;,&nbsp;</span><span class=\"barcode\"; style=\"font-size:9pt; color: black; background-color: #f3f8fe\">&nbsp;twice&nbsp;</span><span class=\"barcode\"; style=\"font-size:9pt; color: black; background-color: #c9ddf0\">&nbsp;reheated&nbsp;</span><span class=\"barcode\"; style=\"font-size:9pt; color: black; background-color: #eaf3fb\">&nbsp;stuffed&nbsp;</span><span class=\"barcode\"; style=\"font-size:9pt; color: black; background-color: #f3f8fe\">&nbsp;bell&nbsp;</span><span class=\"barcode\"; style=\"font-size:9pt; color: black; background-color: #eef5fc\">&nbsp;peppers&nbsp;</span><span class=\"barcode\"; style=\"font-size:9pt; color: black; background-color: #f5f9fe\">&nbsp;with&nbsp;</span><span class=\"barcode\"; style=\"font-size:9pt; color: black; background-color: #f6faff\">&nbsp;&lt;unk&gt;&nbsp;</span><span class=\"barcode\"; style=\"font-size:9pt; color: black; background-color: #eef5fc\">&nbsp;brown&nbsp;</span><span class=\"barcode\"; style=\"font-size:9pt; color: black; background-color: #f2f8fd\">&nbsp;rice&nbsp;</span><span class=\"barcode\"; style=\"font-size:9pt; color: black; background-color: #f4f9fe\">&nbsp;and&nbsp;</span><span class=\"barcode\"; style=\"font-size:9pt; color: black; background-color: #f5f9fe\">&nbsp;red&nbsp;</span><span class=\"barcode\"; style=\"font-size:9pt; color: black; background-color: #f5fafe\">&nbsp;beans&nbsp;</span><span class=\"barcode\"; style=\"font-size:9pt; color: black; background-color: #f5fafe\">&nbsp;,&nbsp;</span><span class=\"barcode\"; style=\"font-size:9pt; color: black; background-color: #f4f9fe\">&nbsp;tough&nbsp;</span><span class=\"barcode\"; style=\"font-size:9pt; color: black; background-color: #f5f9fe\">&nbsp;chewy&nbsp;</span><span class=\"barcode\"; style=\"font-size:9pt; color: black; background-color: #f5f9fe\">&nbsp;(&nbsp;</span><span class=\"barcode\"; style=\"font-size:9pt; color: black; background-color: #f4f9fe\">&nbsp;again&nbsp;</span><span class=\"barcode\"; style=\"font-size:9pt; color: black; background-color: #f5fafe\">&nbsp;&lt;unk&gt;&nbsp;</span><span class=\"barcode\"; style=\"font-size:9pt; color: black; background-color: #f5f9fe\">&nbsp;)&nbsp;</span><span class=\"barcode\"; style=\"font-size:9pt; color: black; background-color: #f5f9fe\">&nbsp;brussels&nbsp;</span><span class=\"barcode\"; style=\"font-size:9pt; color: black; background-color: #f5fafe\">&nbsp;sprouts&nbsp;</span><span class=\"barcode\"; style=\"font-size:9pt; color: black; background-color: #f4f9fe\">&nbsp;,&nbsp;</span><span class=\"barcode\"; style=\"font-size:9pt; color: black; background-color: #eef5fc\">&nbsp;half&nbsp;</span><span class=\"barcode\"; style=\"font-size:9pt; color: black; background-color: #f3f8fe\">&nbsp;decent&nbsp;</span><span class=\"barcode\"; style=\"font-size:9pt; color: black; background-color: #f5f9fe\">&nbsp;kale&nbsp;</span><span class=\"barcode\"; style=\"font-size:9pt; color: black; background-color: #f3f8fe\">&nbsp;salad&nbsp;</span><span class=\"barcode\"; style=\"font-size:9pt; color: black; background-color: #f5f9fe\">&nbsp;(&nbsp;</span><span class=\"barcode\"; style=\"font-size:9pt; color: black; background-color: #f2f8fd\">&nbsp;surprisingly&nbsp;</span><span class=\"barcode\"; style=\"font-size:9pt; color: black; background-color: #f2f7fd\">&nbsp;bright&nbsp;</span><span class=\"barcode\"; style=\"font-size:9pt; color: black; background-color: #f4f9fe\">&nbsp;&lt;unk&gt;&nbsp;</span><span class=\"barcode\"; style=\"font-size:9pt; color: black; background-color: #f2f8fd\">&nbsp;only&nbsp;</span><span class=\"barcode\"; style=\"font-size:9pt; color: black; background-color: #f5fafe\">&nbsp;highlight&nbsp;</span><span class=\"barcode\"; style=\"font-size:9pt; color: black; background-color: #f5fafe\">&nbsp;of&nbsp;</span><span class=\"barcode\"; style=\"font-size:9pt; color: black; background-color: #f4f9fe\">&nbsp;the&nbsp;</span><span class=\"barcode\"; style=\"font-size:9pt; color: black; background-color: #f5fafe\">&nbsp;experience&nbsp;</span><span class=\"barcode\"; style=\"font-size:9pt; color: black; background-color: #f5fafe\">&nbsp;)&nbsp;</span><span class=\"barcode\"; style=\"font-size:9pt; color: black; background-color: #f6faff\">&nbsp;.&nbsp;</span></div><div style=\"background-color: #fed9c9; padding: 3pt;\"><span class=\"barcode\"; style=\"font-size:9pt; color: black; background-color: #083e81\">&nbsp;yuck&nbsp;</span><span class=\"barcode\"; style=\"font-size:9pt; color: black; background-color: #ecf4fb\">&nbsp;.&nbsp;</span></div><div style=\"background-color: #fed9c9; padding: 3pt;\"><span class=\"barcode\"; style=\"font-size:9pt; color: black; background-color: #e7f1fa\">&nbsp;this&nbsp;</span><span class=\"barcode\"; style=\"font-size:9pt; color: black; background-color: #e9f2fa\">&nbsp;is&nbsp;</span><span class=\"barcode\"; style=\"font-size:9pt; color: black; background-color: #eaf2fb\">&nbsp;my&nbsp;</span><span class=\"barcode\"; style=\"font-size:9pt; color: black; background-color: #eef5fc\">&nbsp;second&nbsp;</span><span class=\"barcode\"; style=\"font-size:9pt; color: black; background-color: #e3eef8\">&nbsp;visit&nbsp;</span><span class=\"barcode\"; style=\"font-size:9pt; color: black; background-color: #f0f6fd\">&nbsp;after&nbsp;</span><span class=\"barcode\"; style=\"font-size:9pt; color: black; background-color: #f2f7fd\">&nbsp;a&nbsp;</span><span class=\"barcode\"; style=\"font-size:9pt; color: black; background-color: #81badb\">&nbsp;terrible&nbsp;</span><span class=\"barcode\"; style=\"font-size:9pt; color: black; background-color: #e7f0fa\">&nbsp;first&nbsp;</span><span class=\"barcode\"; style=\"font-size:9pt; color: black; background-color: #f2f7fd\">&nbsp;.&nbsp;</span></div><div style=\"background-color: #fed8c7; padding: 3pt;\"><span class=\"barcode\"; style=\"font-size:9pt; color: black; background-color: #e8f1fa\">&nbsp;my&nbsp;</span><span class=\"barcode\"; style=\"font-size:9pt; color: black; background-color: #4896c8\">&nbsp;bad&nbsp;</span><span class=\"barcode\"; style=\"font-size:9pt; color: black; background-color: #dae8f6\">&nbsp;for&nbsp;</span><span class=\"barcode\"; style=\"font-size:9pt; color: black; background-color: #eaf3fb\">&nbsp;&lt;unk&gt;&nbsp;</span><span class=\"barcode\"; style=\"font-size:9pt; color: black; background-color: #eef5fc\">&nbsp;on&nbsp;</span><span class=\"barcode\"; style=\"font-size:9pt; color: black; background-color: #f1f7fd\">&nbsp;me&nbsp;</span><span class=\"barcode\"; style=\"font-size:9pt; color: black; background-color: #f2f8fd\">&nbsp;.&nbsp;</span></div>"
      ],
      "text/plain": [
       "<IPython.core.display.HTML object>"
      ]
     },
     "metadata": {},
     "output_type": "display_data"
    },
    {
     "name": "stdout",
     "output_type": "stream",
     "text": [
      "The network predicted negative with probability 0.99863416.\n",
      "The correct label is negative.\n"
     ]
    },
    {
     "data": {
      "text/html": [
       "<div style=\"background-color: #fee6da; padding: 3pt;\"><span class=\"barcode\"; style=\"font-size:9pt; color: black; background-color: #f1f7fd\">&nbsp;if&nbsp;</span><span class=\"barcode\"; style=\"font-size:9pt; color: black; background-color: #f2f8fd\">&nbsp;i&nbsp;</span><span class=\"barcode\"; style=\"font-size:9pt; color: black; background-color: #f4f9fe\">&nbsp;could&nbsp;</span><span class=\"barcode\"; style=\"font-size:9pt; color: black; background-color: #e3eef8\">&nbsp;give&nbsp;</span><span class=\"barcode\"; style=\"font-size:9pt; color: black; background-color: #d3e3f3\">&nbsp;it&nbsp;</span><span class=\"barcode\"; style=\"font-size:9pt; color: black; background-color: #e0ecf8\">&nbsp;less&nbsp;</span><span class=\"barcode\"; style=\"font-size:9pt; color: black; background-color: #eaf2fb\">&nbsp;than&nbsp;</span><span class=\"barcode\"; style=\"font-size:9pt; color: black; background-color: #e0ecf8\">&nbsp;one&nbsp;</span><span class=\"barcode\"; style=\"font-size:9pt; color: black; background-color: #cbdef1\">&nbsp;star&nbsp;</span><span class=\"barcode\"; style=\"font-size:9pt; color: black; background-color: #f1f7fd\">&nbsp;i&nbsp;</span><span class=\"barcode\"; style=\"font-size:9pt; color: black; background-color: #edf4fc\">&nbsp;would&nbsp;</span><span class=\"barcode\"; style=\"font-size:9pt; color: black; background-color: #f3f8fe\">&nbsp;.&nbsp;</span></div><div style=\"background-color: #fee4d8; padding: 3pt;\"><span class=\"barcode\"; style=\"font-size:9pt; color: black; background-color: #f1f7fd\">&nbsp;my&nbsp;</span><span class=\"barcode\"; style=\"font-size:9pt; color: black; background-color: #f2f8fd\">&nbsp;wife&nbsp;</span><span class=\"barcode\"; style=\"font-size:9pt; color: black; background-color: #f1f7fd\">&nbsp;and&nbsp;</span><span class=\"barcode\"; style=\"font-size:9pt; color: black; background-color: #f4f9fe\">&nbsp;i&nbsp;</span><span class=\"barcode\"; style=\"font-size:9pt; color: black; background-color: #f4f9fe\">&nbsp;recently&nbsp;</span><span class=\"barcode\"; style=\"font-size:9pt; color: black; background-color: #f4f9fe\">&nbsp;stayed&nbsp;</span><span class=\"barcode\"; style=\"font-size:9pt; color: black; background-color: #f4f9fe\">&nbsp;in&nbsp;</span><span class=\"barcode\"; style=\"font-size:9pt; color: black; background-color: #f2f8fd\">&nbsp;the&nbsp;</span><span class=\"barcode\"; style=\"font-size:9pt; color: black; background-color: #f1f7fd\">&nbsp;riviera&nbsp;</span><span class=\"barcode\"; style=\"font-size:9pt; color: black; background-color: #eef5fc\">&nbsp;and&nbsp;</span><span class=\"barcode\"; style=\"font-size:9pt; color: black; background-color: #f2f7fd\">&nbsp;i&nbsp;</span><span class=\"barcode\"; style=\"font-size:9pt; color: black; background-color: #f2f8fd\">&nbsp;don&nbsp;</span><span class=\"barcode\"; style=\"font-size:9pt; color: black; background-color: #f1f7fd\">&nbsp;'&nbsp;</span><span class=\"barcode\"; style=\"font-size:9pt; color: black; background-color: #edf4fc\">&nbsp;t&nbsp;</span><span class=\"barcode\"; style=\"font-size:9pt; color: black; background-color: #f2f7fd\">&nbsp;think&nbsp;</span><span class=\"barcode\"; style=\"font-size:9pt; color: black; background-color: #f4f9fe\">&nbsp;we&nbsp;</span><span class=\"barcode\"; style=\"font-size:9pt; color: black; background-color: #f3f8fe\">&nbsp;'&nbsp;</span><span class=\"barcode\"; style=\"font-size:9pt; color: black; background-color: #eff6fc\">&nbsp;ll&nbsp;</span><span class=\"barcode\"; style=\"font-size:9pt; color: black; background-color: #f2f7fd\">&nbsp;ever&nbsp;</span><span class=\"barcode\"; style=\"font-size:9pt; color: black; background-color: #f2f8fd\">&nbsp;be&nbsp;</span><span class=\"barcode\"; style=\"font-size:9pt; color: black; background-color: #f2f7fd\">&nbsp;staying&nbsp;</span><span class=\"barcode\"; style=\"font-size:9pt; color: black; background-color: #eef5fc\">&nbsp;there&nbsp;</span><span class=\"barcode\"; style=\"font-size:9pt; color: black; background-color: #eef5fc\">&nbsp;again&nbsp;</span><span class=\"barcode\"; style=\"font-size:9pt; color: black; background-color: #f3f8fe\">&nbsp;because&nbsp;</span><span class=\"barcode\"; style=\"font-size:9pt; color: black; background-color: #f4f9fe\">&nbsp;of&nbsp;</span><span class=\"barcode\"; style=\"font-size:9pt; color: black; background-color: #f2f7fd\">&nbsp;our&nbsp;</span><span class=\"barcode\"; style=\"font-size:9pt; color: black; background-color: #eef5fc\">&nbsp;interactions&nbsp;</span><span class=\"barcode\"; style=\"font-size:9pt; color: black; background-color: #f3f8fe\">&nbsp;with&nbsp;</span><span class=\"barcode\"; style=\"font-size:9pt; color: black; background-color: #f2f8fd\">&nbsp;the&nbsp;</span><span class=\"barcode\"; style=\"font-size:9pt; color: black; background-color: #f2f8fd\">&nbsp;front&nbsp;</span><span class=\"barcode\"; style=\"font-size:9pt; color: black; background-color: #f2f8fd\">&nbsp;desk&nbsp;</span><span class=\"barcode\"; style=\"font-size:9pt; color: black; background-color: #e8f1fa\">&nbsp;staff&nbsp;</span><span class=\"barcode\"; style=\"font-size:9pt; color: black; background-color: #f4f9fe\">&nbsp;.&nbsp;</span></div><div style=\"background-color: #fee5d8; padding: 3pt;\"><span class=\"barcode\"; style=\"font-size:9pt; color: black; background-color: #ebf3fb\">&nbsp;when&nbsp;</span><span class=\"barcode\"; style=\"font-size:9pt; color: black; background-color: #ecf4fb\">&nbsp;i&nbsp;</span><span class=\"barcode\"; style=\"font-size:9pt; color: black; background-color: #eef5fc\">&nbsp;made&nbsp;</span><span class=\"barcode\"; style=\"font-size:9pt; color: black; background-color: #f0f6fd\">&nbsp;the&nbsp;</span><span class=\"barcode\"; style=\"font-size:9pt; color: black; background-color: #f1f7fd\">&nbsp;reservations&nbsp;</span><span class=\"barcode\"; style=\"font-size:9pt; color: black; background-color: #f2f8fd\">&nbsp;for&nbsp;</span><span class=\"barcode\"; style=\"font-size:9pt; color: black; background-color: #f2f8fd\">&nbsp;our&nbsp;</span><span class=\"barcode\"; style=\"font-size:9pt; color: black; background-color: #f2f8fd\">&nbsp;room&nbsp;</span><span class=\"barcode\"; style=\"font-size:9pt; color: black; background-color: #f3f8fe\">&nbsp;online&nbsp;</span><span class=\"barcode\"; style=\"font-size:9pt; color: black; background-color: #f4f9fe\">&nbsp;they&nbsp;</span><span class=\"barcode\"; style=\"font-size:9pt; color: black; background-color: #eef5fc\">&nbsp;give&nbsp;</span><span class=\"barcode\"; style=\"font-size:9pt; color: black; background-color: #deebf7\">&nbsp;you&nbsp;</span><span class=\"barcode\"; style=\"font-size:9pt; color: black; background-color: #edf4fc\">&nbsp;a&nbsp;</span><span class=\"barcode\"; style=\"font-size:9pt; color: black; background-color: #b5d4e9\">&nbsp;choice&nbsp;</span><span class=\"barcode\"; style=\"font-size:9pt; color: black; background-color: #f1f7fd\">&nbsp;for&nbsp;</span><span class=\"barcode\"; style=\"font-size:9pt; color: black; background-color: #f3f8fe\">&nbsp;a&nbsp;</span><span class=\"barcode\"; style=\"font-size:9pt; color: black; background-color: #f4f9fe\">&nbsp;double&nbsp;</span><span class=\"barcode\"; style=\"font-size:9pt; color: black; background-color: #f4f9fe\">&nbsp;or&nbsp;</span><span class=\"barcode\"; style=\"font-size:9pt; color: black; background-color: #f4f9fe\">&nbsp;king&nbsp;</span><span class=\"barcode\"; style=\"font-size:9pt; color: black; background-color: #f5f9fe\">&nbsp;.&nbsp;</span></div><div style=\"background-color: #fee8de; padding: 3pt;\"><span class=\"barcode\"; style=\"font-size:9pt; color: black; background-color: #eef5fc\">&nbsp;we&nbsp;</span><span class=\"barcode\"; style=\"font-size:9pt; color: black; background-color: #eef5fc\">&nbsp;selected&nbsp;</span><span class=\"barcode\"; style=\"font-size:9pt; color: black; background-color: #eef5fc\">&nbsp;a&nbsp;</span><span class=\"barcode\"; style=\"font-size:9pt; color: black; background-color: #ebf3fb\">&nbsp;king&nbsp;</span><span class=\"barcode\"; style=\"font-size:9pt; color: black; background-color: #f2f7fd\">&nbsp;in&nbsp;</span><span class=\"barcode\"; style=\"font-size:9pt; color: black; background-color: #f2f7fd\">&nbsp;their&nbsp;</span><span class=\"barcode\"; style=\"font-size:9pt; color: black; background-color: #f2f8fd\">&nbsp;premier&nbsp;</span><span class=\"barcode\"; style=\"font-size:9pt; color: black; background-color: #f2f7fd\">&nbsp;room&nbsp;</span><span class=\"barcode\"; style=\"font-size:9pt; color: black; background-color: #ebf3fb\">&nbsp;but&nbsp;</span><span class=\"barcode\"; style=\"font-size:9pt; color: black; background-color: #eaf2fb\">&nbsp;found&nbsp;</span><span class=\"barcode\"; style=\"font-size:9pt; color: black; background-color: #f0f6fd\">&nbsp;they&nbsp;</span><span class=\"barcode\"; style=\"font-size:9pt; color: black; background-color: #eff6fc\">&nbsp;had&nbsp;</span><span class=\"barcode\"; style=\"font-size:9pt; color: black; background-color: #eff6fc\">&nbsp;assigned&nbsp;</span><span class=\"barcode\"; style=\"font-size:9pt; color: black; background-color: #eaf3fb\">&nbsp;us&nbsp;</span><span class=\"barcode\"; style=\"font-size:9pt; color: black; background-color: #f0f6fd\">&nbsp;a&nbsp;</span><span class=\"barcode\"; style=\"font-size:9pt; color: black; background-color: #f2f7fd\">&nbsp;double&nbsp;</span><span class=\"barcode\"; style=\"font-size:9pt; color: black; background-color: #eff6fc\">&nbsp;bed&nbsp;</span><span class=\"barcode\"; style=\"font-size:9pt; color: black; background-color: #eef5fc\">&nbsp;smoking&nbsp;</span><span class=\"barcode\"; style=\"font-size:9pt; color: black; background-color: #eef5fc\">&nbsp;room&nbsp;</span><span class=\"barcode\"; style=\"font-size:9pt; color: black; background-color: #f0f6fd\">&nbsp;in&nbsp;</span><span class=\"barcode\"; style=\"font-size:9pt; color: black; background-color: #f1f7fd\">&nbsp;their&nbsp;</span><span class=\"barcode\"; style=\"font-size:9pt; color: black; background-color: #f2f7fd\">&nbsp;cheapest&nbsp;</span><span class=\"barcode\"; style=\"font-size:9pt; color: black; background-color: #f0f6fd\">&nbsp;tower&nbsp;</span><span class=\"barcode\"; style=\"font-size:9pt; color: black; background-color: #f2f8fd\">&nbsp;.&nbsp;</span></div><div style=\"background-color: #fee3d7; padding: 3pt;\"><span class=\"barcode\"; style=\"font-size:9pt; color: black; background-color: #f1f7fd\">&nbsp;when&nbsp;</span><span class=\"barcode\"; style=\"font-size:9pt; color: black; background-color: #f1f7fd\">&nbsp;i&nbsp;</span><span class=\"barcode\"; style=\"font-size:9pt; color: black; background-color: #ecf4fb\">&nbsp;asked&nbsp;</span><span class=\"barcode\"; style=\"font-size:9pt; color: black; background-color: #edf4fc\">&nbsp;the&nbsp;</span><span class=\"barcode\"; style=\"font-size:9pt; color: black; background-color: #eff6fc\">&nbsp;lady&nbsp;</span><span class=\"barcode\"; style=\"font-size:9pt; color: black; background-color: #f0f6fd\">&nbsp;at&nbsp;</span><span class=\"barcode\"; style=\"font-size:9pt; color: black; background-color: #f0f6fd\">&nbsp;the&nbsp;</span><span class=\"barcode\"; style=\"font-size:9pt; color: black; background-color: #eff6fc\">&nbsp;desk&nbsp;</span><span class=\"barcode\"; style=\"font-size:9pt; color: black; background-color: #eaf3fb\">&nbsp;about&nbsp;</span><span class=\"barcode\"; style=\"font-size:9pt; color: black; background-color: #eef5fc\">&nbsp;this&nbsp;</span><span class=\"barcode\"; style=\"font-size:9pt; color: black; background-color: #f1f7fd\">&nbsp;with&nbsp;</span><span class=\"barcode\"; style=\"font-size:9pt; color: black; background-color: #f2f7fd\">&nbsp;my&nbsp;</span><span class=\"barcode\"; style=\"font-size:9pt; color: black; background-color: #f2f7fd\">&nbsp;wife&nbsp;</span><span class=\"barcode\"; style=\"font-size:9pt; color: black; background-color: #f2f7fd\">&nbsp;by&nbsp;</span><span class=\"barcode\"; style=\"font-size:9pt; color: black; background-color: #f2f8fd\">&nbsp;my&nbsp;</span><span class=\"barcode\"; style=\"font-size:9pt; color: black; background-color: #f3f8fe\">&nbsp;side&nbsp;</span><span class=\"barcode\"; style=\"font-size:9pt; color: black; background-color: #f2f7fd\">&nbsp;she&nbsp;</span><span class=\"barcode\"; style=\"font-size:9pt; color: black; background-color: #f2f8fd\">&nbsp;snapped&nbsp;</span><span class=\"barcode\"; style=\"font-size:9pt; color: black; background-color: #f3f8fe\">&nbsp;at&nbsp;</span><span class=\"barcode\"; style=\"font-size:9pt; color: black; background-color: #f4f9fe\">&nbsp;me&nbsp;</span><span class=\"barcode\"; style=\"font-size:9pt; color: black; background-color: #f4f9fe\">&nbsp;saying&nbsp;</span><span class=\"barcode\"; style=\"font-size:9pt; color: black; background-color: #f4f9fe\">&nbsp;that&nbsp;</span><span class=\"barcode\"; style=\"font-size:9pt; color: black; background-color: #f5f9fe\">&nbsp;&lt;unk&gt;&nbsp;</span><span class=\"barcode\"; style=\"font-size:9pt; color: black; background-color: #f4f9fe\">&nbsp;rooms&nbsp;</span><span class=\"barcode\"; style=\"font-size:9pt; color: black; background-color: #f4f9fe\">&nbsp;aren&nbsp;</span><span class=\"barcode\"; style=\"font-size:9pt; color: black; background-color: #f4f9fe\">&nbsp;'&nbsp;</span><span class=\"barcode\"; style=\"font-size:9pt; color: black; background-color: #f4f9fe\">&nbsp;t&nbsp;</span><span class=\"barcode\"; style=\"font-size:9pt; color: black; background-color: #f4f9fe\">&nbsp;assigned&nbsp;</span><span class=\"barcode\"; style=\"font-size:9pt; color: black; background-color: #f0f6fd\">&nbsp;until&nbsp;</span><span class=\"barcode\"; style=\"font-size:9pt; color: black; background-color: #e6f0f9\">&nbsp;check&nbsp;</span><span class=\"barcode\"; style=\"font-size:9pt; color: black; background-color: #f3f8fe\">&nbsp;in&nbsp;</span><span class=\"barcode\"; style=\"font-size:9pt; color: black; background-color: #f4f9fe\">&nbsp;.&nbsp;</span></div><div style=\"background-color: #fee3d7; padding: 3pt;\"><span class=\"barcode\"; style=\"font-size:9pt; color: black; background-color: #dfecf7\">&nbsp;it&nbsp;</span><span class=\"barcode\"; style=\"font-size:9pt; color: black; background-color: #dce9f6\">&nbsp;makes&nbsp;</span><span class=\"barcode\"; style=\"font-size:9pt; color: black; background-color: #e6f0f9\">&nbsp;no&nbsp;</span><span class=\"barcode\"; style=\"font-size:9pt; color: black; background-color: #e7f1fa\">&nbsp;sense&nbsp;</span><span class=\"barcode\"; style=\"font-size:9pt; color: black; background-color: #f3f8fe\">&nbsp;to&nbsp;</span><span class=\"barcode\"; style=\"font-size:9pt; color: black; background-color: #f5f9fe\">&nbsp;me&nbsp;</span><span class=\"barcode\"; style=\"font-size:9pt; color: black; background-color: #f5f9fe\">&nbsp;why&nbsp;</span><span class=\"barcode\"; style=\"font-size:9pt; color: black; background-color: #f5f9fe\">&nbsp;they&nbsp;</span><span class=\"barcode\"; style=\"font-size:9pt; color: black; background-color: #f5f9fe\">&nbsp;would&nbsp;</span><span class=\"barcode\"; style=\"font-size:9pt; color: black; background-color: #f5f9fe\">&nbsp;even&nbsp;</span><span class=\"barcode\"; style=\"font-size:9pt; color: black; background-color: #f3f8fe\">&nbsp;give&nbsp;</span><span class=\"barcode\"; style=\"font-size:9pt; color: black; background-color: #ebf3fb\">&nbsp;you&nbsp;</span><span class=\"barcode\"; style=\"font-size:9pt; color: black; background-color: #e9f2fa\">&nbsp;the&nbsp;</span><span class=\"barcode\"; style=\"font-size:9pt; color: black; background-color: #f2f8fd\">&nbsp;option&nbsp;</span><span class=\"barcode\"; style=\"font-size:9pt; color: black; background-color: #f4f9fe\">&nbsp;on&nbsp;</span><span class=\"barcode\"; style=\"font-size:9pt; color: black; background-color: #f4f9fe\">&nbsp;their&nbsp;</span><span class=\"barcode\"; style=\"font-size:9pt; color: black; background-color: #f2f8fd\">&nbsp;website&nbsp;</span><span class=\"barcode\"; style=\"font-size:9pt; color: black; background-color: #f4f9fe\">&nbsp;to&nbsp;</span><span class=\"barcode\"; style=\"font-size:9pt; color: black; background-color: #f3f8fe\">&nbsp;select&nbsp;</span><span class=\"barcode\"; style=\"font-size:9pt; color: black; background-color: #f4f9fe\">&nbsp;the&nbsp;</span><span class=\"barcode\"; style=\"font-size:9pt; color: black; background-color: #f5f9fe\">&nbsp;class&nbsp;</span><span class=\"barcode\"; style=\"font-size:9pt; color: black; background-color: #f5f9fe\">&nbsp;of&nbsp;</span><span class=\"barcode\"; style=\"font-size:9pt; color: black; background-color: #f5f9fe\">&nbsp;&lt;unk&gt;&nbsp;</span><span class=\"barcode\"; style=\"font-size:9pt; color: black; background-color: #f5f9fe\">&nbsp;of&nbsp;</span><span class=\"barcode\"; style=\"font-size:9pt; color: black; background-color: #f5fafe\">&nbsp;beds&nbsp;</span><span class=\"barcode\"; style=\"font-size:9pt; color: black; background-color: #f5f9fe\">&nbsp;if&nbsp;</span><span class=\"barcode\"; style=\"font-size:9pt; color: black; background-color: #f3f8fe\">&nbsp;it&nbsp;</span><span class=\"barcode\"; style=\"font-size:9pt; color: black; background-color: #f5fafe\">&nbsp;doesn&nbsp;</span><span class=\"barcode\"; style=\"font-size:9pt; color: black; background-color: #f5fafe\">&nbsp;'&nbsp;</span><span class=\"barcode\"; style=\"font-size:9pt; color: black; background-color: #f5f9fe\">&nbsp;t&nbsp;</span><span class=\"barcode\"; style=\"font-size:9pt; color: black; background-color: #f5fafe\">&nbsp;matter&nbsp;</span><span class=\"barcode\"; style=\"font-size:9pt; color: black; background-color: #f5fafe\">&nbsp;to&nbsp;</span><span class=\"barcode\"; style=\"font-size:9pt; color: black; background-color: #f3f8fe\">&nbsp;them&nbsp;</span><span class=\"barcode\"; style=\"font-size:9pt; color: black; background-color: #f5fafe\">&nbsp;.&nbsp;</span></div><div style=\"background-color: #fee3d7; padding: 3pt;\"><span class=\"barcode\"; style=\"font-size:9pt; color: black; background-color: #edf4fc\">&nbsp;the&nbsp;</span><span class=\"barcode\"; style=\"font-size:9pt; color: black; background-color: #dceaf6\">&nbsp;rude&nbsp;</span><span class=\"barcode\"; style=\"font-size:9pt; color: black; background-color: #f2f8fd\">&nbsp;,&nbsp;</span><span class=\"barcode\"; style=\"font-size:9pt; color: black; background-color: #f4f9fe\">&nbsp;abrupt&nbsp;</span><span class=\"barcode\"; style=\"font-size:9pt; color: black; background-color: #f2f8fd\">&nbsp;,&nbsp;</span><span class=\"barcode\"; style=\"font-size:9pt; color: black; background-color: #f3f8fe\">&nbsp;and&nbsp;</span><span class=\"barcode\"; style=\"font-size:9pt; color: black; background-color: #f4f9fe\">&nbsp;confrontational&nbsp;</span><span class=\"barcode\"; style=\"font-size:9pt; color: black; background-color: #f4f9fe\">&nbsp;tone&nbsp;</span><span class=\"barcode\"; style=\"font-size:9pt; color: black; background-color: #f5f9fe\">&nbsp;that&nbsp;</span><span class=\"barcode\"; style=\"font-size:9pt; color: black; background-color: #f4f9fe\">&nbsp;we&nbsp;</span><span class=\"barcode\"; style=\"font-size:9pt; color: black; background-color: #f3f8fe\">&nbsp;were&nbsp;</span><span class=\"barcode\"; style=\"font-size:9pt; color: black; background-color: #eaf2fb\">&nbsp;treated&nbsp;</span><span class=\"barcode\"; style=\"font-size:9pt; color: black; background-color: #f2f8fd\">&nbsp;with&nbsp;</span><span class=\"barcode\"; style=\"font-size:9pt; color: black; background-color: #e0ecf8\">&nbsp;was&nbsp;</span><span class=\"barcode\"; style=\"font-size:9pt; color: black; background-color: #e0ecf8\">&nbsp;keeping&nbsp;</span><span class=\"barcode\"; style=\"font-size:9pt; color: black; background-color: #f3f8fe\">&nbsp;with&nbsp;</span><span class=\"barcode\"; style=\"font-size:9pt; color: black; background-color: #f3f8fe\">&nbsp;the&nbsp;</span><span class=\"barcode\"; style=\"font-size:9pt; color: black; background-color: #f4f9fe\">&nbsp;premier&nbsp;</span><span class=\"barcode\"; style=\"font-size:9pt; color: black; background-color: #f3f8fe\">&nbsp;customer&nbsp;</span><span class=\"barcode\"; style=\"font-size:9pt; color: black; background-color: #f4f9fe\">&nbsp;service&nbsp;</span><span class=\"barcode\"; style=\"font-size:9pt; color: black; background-color: #f4f9fe\">&nbsp;of&nbsp;</span><span class=\"barcode\"; style=\"font-size:9pt; color: black; background-color: #f5f9fe\">&nbsp;a&nbsp;</span><span class=\"barcode\"; style=\"font-size:9pt; color: black; background-color: #f4f9fe\">&nbsp;vegas&nbsp;</span><span class=\"barcode\"; style=\"font-size:9pt; color: black; background-color: #f4f9fe\">&nbsp;hotel&nbsp;</span><span class=\"barcode\"; style=\"font-size:9pt; color: black; background-color: #f5f9fe\">&nbsp;that&nbsp;</span><span class=\"barcode\"; style=\"font-size:9pt; color: black; background-color: #f5f9fe\">&nbsp;we&nbsp;</span><span class=\"barcode\"; style=\"font-size:9pt; color: black; background-color: #f4f9fe\">&nbsp;have&nbsp;</span><span class=\"barcode\"; style=\"font-size:9pt; color: black; background-color: #f4f9fe\">&nbsp;experienced&nbsp;</span><span class=\"barcode\"; style=\"font-size:9pt; color: black; background-color: #f5f9fe\">&nbsp;in&nbsp;</span><span class=\"barcode\"; style=\"font-size:9pt; color: black; background-color: #f5f9fe\">&nbsp;the&nbsp;</span><span class=\"barcode\"; style=\"font-size:9pt; color: black; background-color: #f0f6fd\">&nbsp;past&nbsp;</span><span class=\"barcode\"; style=\"font-size:9pt; color: black; background-color: #f5f9fe\">&nbsp;.&nbsp;</span></div><div style=\"background-color: #feeae0; padding: 3pt;\"><span class=\"barcode\"; style=\"font-size:9pt; color: black; background-color: #f2f8fd\">&nbsp;as&nbsp;</span><span class=\"barcode\"; style=\"font-size:9pt; color: black; background-color: #eff6fc\">&nbsp;it&nbsp;</span><span class=\"barcode\"; style=\"font-size:9pt; color: black; background-color: #e9f2fa\">&nbsp;turned&nbsp;</span><span class=\"barcode\"; style=\"font-size:9pt; color: black; background-color: #f4f9fe\">&nbsp;out&nbsp;</span><span class=\"barcode\"; style=\"font-size:9pt; color: black; background-color: #f1f7fd\">&nbsp;she&nbsp;</span><span class=\"barcode\"; style=\"font-size:9pt; color: black; background-color: #f2f7fd\">&nbsp;ended&nbsp;</span><span class=\"barcode\"; style=\"font-size:9pt; color: black; background-color: #edf4fc\">&nbsp;up&nbsp;</span><span class=\"barcode\"; style=\"font-size:9pt; color: black; background-color: #f2f7fd\">&nbsp;taking&nbsp;</span><span class=\"barcode\"; style=\"font-size:9pt; color: black; background-color: #e8f1fa\">&nbsp;our&nbsp;</span><span class=\"barcode\"; style=\"font-size:9pt; color: black; background-color: #f1f7fd\">&nbsp;keys&nbsp;</span><span class=\"barcode\"; style=\"font-size:9pt; color: black; background-color: #f2f8fd\">&nbsp;and&nbsp;</span><span class=\"barcode\"; style=\"font-size:9pt; color: black; background-color: #eff6fc\">&nbsp;changing&nbsp;</span><span class=\"barcode\"; style=\"font-size:9pt; color: black; background-color: #f2f8fd\">&nbsp;the&nbsp;</span><span class=\"barcode\"; style=\"font-size:9pt; color: black; background-color: #f2f8fd\">&nbsp;room&nbsp;</span><span class=\"barcode\"; style=\"font-size:9pt; color: black; background-color: #f4f9fe\">&nbsp;without&nbsp;</span><span class=\"barcode\"; style=\"font-size:9pt; color: black; background-color: #f3f8fe\">&nbsp;telling&nbsp;</span><span class=\"barcode\"; style=\"font-size:9pt; color: black; background-color: #f2f7fd\">&nbsp;us&nbsp;</span><span class=\"barcode\"; style=\"font-size:9pt; color: black; background-color: #f2f8fd\">&nbsp;what&nbsp;</span><span class=\"barcode\"; style=\"font-size:9pt; color: black; background-color: #e2edf8\">&nbsp;was&nbsp;</span><span class=\"barcode\"; style=\"font-size:9pt; color: black; background-color: #c8dcf0\">&nbsp;going&nbsp;</span><span class=\"barcode\"; style=\"font-size:9pt; color: black; background-color: #f4f9fe\">&nbsp;on&nbsp;</span><span class=\"barcode\"; style=\"font-size:9pt; color: black; background-color: #f5fafe\">&nbsp;.&nbsp;</span></div><div style=\"background-color: #ffede5; padding: 3pt;\"><span class=\"barcode\"; style=\"font-size:9pt; color: black; background-color: #f2f8fd\">&nbsp;we&nbsp;</span><span class=\"barcode\"; style=\"font-size:9pt; color: black; background-color: #e2edf8\">&nbsp;were&nbsp;</span><span class=\"barcode\"; style=\"font-size:9pt; color: black; background-color: #b4d3e9\">&nbsp;surprised&nbsp;</span><span class=\"barcode\"; style=\"font-size:9pt; color: black; background-color: #f1f7fd\">&nbsp;and&nbsp;</span><span class=\"barcode\"; style=\"font-size:9pt; color: black; background-color: #d4e4f4\">&nbsp;confused&nbsp;</span><span class=\"barcode\"; style=\"font-size:9pt; color: black; background-color: #e3eef8\">&nbsp;when&nbsp;</span><span class=\"barcode\"; style=\"font-size:9pt; color: black; background-color: #f0f6fd\">&nbsp;we&nbsp;</span><span class=\"barcode\"; style=\"font-size:9pt; color: black; background-color: #eaf3fb\">&nbsp;entered&nbsp;</span><span class=\"barcode\"; style=\"font-size:9pt; color: black; background-color: #f3f8fe\">&nbsp;our&nbsp;</span><span class=\"barcode\"; style=\"font-size:9pt; color: black; background-color: #f1f7fd\">&nbsp;non&nbsp;</span><span class=\"barcode\"; style=\"font-size:9pt; color: black; background-color: #f5fafe\">&nbsp;smoking&nbsp;</span><span class=\"barcode\"; style=\"font-size:9pt; color: black; background-color: #f3f8fe\">&nbsp;king&nbsp;</span><span class=\"barcode\"; style=\"font-size:9pt; color: black; background-color: #f4f9fe\">&nbsp;room&nbsp;</span><span class=\"barcode\"; style=\"font-size:9pt; color: black; background-color: #f5fafe\">&nbsp;that&nbsp;</span><span class=\"barcode\"; style=\"font-size:9pt; color: black; background-color: #f5fafe\">&nbsp;we&nbsp;</span><span class=\"barcode\"; style=\"font-size:9pt; color: black; background-color: #f6faff\">&nbsp;originally&nbsp;</span><span class=\"barcode\"; style=\"font-size:9pt; color: black; background-color: #f6faff\">&nbsp;had&nbsp;</span><span class=\"barcode\"; style=\"font-size:9pt; color: black; background-color: #f6faff\">&nbsp;reserved&nbsp;</span><span class=\"barcode\"; style=\"font-size:9pt; color: black; background-color: #f6faff\">&nbsp;.&nbsp;</span></div><div style=\"background-color: #fee3d6; padding: 3pt;\"><span class=\"barcode\"; style=\"font-size:9pt; color: black; background-color: #ddeaf7\">&nbsp;why&nbsp;</span><span class=\"barcode\"; style=\"font-size:9pt; color: black; background-color: #deebf7\">&nbsp;did&nbsp;</span><span class=\"barcode\"; style=\"font-size:9pt; color: black; background-color: #deebf7\">&nbsp;there&nbsp;</span><span class=\"barcode\"; style=\"font-size:9pt; color: black; background-color: #ebf3fb\">&nbsp;have&nbsp;</span><span class=\"barcode\"; style=\"font-size:9pt; color: black; background-color: #ecf4fb\">&nbsp;to&nbsp;</span><span class=\"barcode\"; style=\"font-size:9pt; color: black; background-color: #eef5fc\">&nbsp;be&nbsp;</span><span class=\"barcode\"; style=\"font-size:9pt; color: black; background-color: #eaf3fb\">&nbsp;an&nbsp;</span><span class=\"barcode\"; style=\"font-size:9pt; color: black; background-color: #eaf3fb\">&nbsp;incident&nbsp;</span><span class=\"barcode\"; style=\"font-size:9pt; color: black; background-color: #eef5fc\">&nbsp;in&nbsp;</span><span class=\"barcode\"; style=\"font-size:9pt; color: black; background-color: #eaf3fb\">&nbsp;the&nbsp;</span><span class=\"barcode\"; style=\"font-size:9pt; color: black; background-color: #f0f6fd\">&nbsp;first&nbsp;</span><span class=\"barcode\"; style=\"font-size:9pt; color: black; background-color: #e7f0fa\">&nbsp;place&nbsp;</span><span class=\"barcode\"; style=\"font-size:9pt; color: black; background-color: #e6f0f9\">&nbsp;?&nbsp;</span></div><div style=\"background-color: #fee8dd; padding: 3pt;\"><span class=\"barcode\"; style=\"font-size:9pt; color: black; background-color: #f1f7fd\">&nbsp;i&nbsp;</span><span class=\"barcode\"; style=\"font-size:9pt; color: black; background-color: #f2f8fd\">&nbsp;'&nbsp;</span><span class=\"barcode\"; style=\"font-size:9pt; color: black; background-color: #eef5fc\">&nbsp;m&nbsp;</span><span class=\"barcode\"; style=\"font-size:9pt; color: black; background-color: #deebf7\">&nbsp;still&nbsp;</span><span class=\"barcode\"; style=\"font-size:9pt; color: black; background-color: #3080bd\">&nbsp;confused&nbsp;</span><span class=\"barcode\"; style=\"font-size:9pt; color: black; background-color: #e8f1fa\">&nbsp;.&nbsp;</span></div>"
      ],
      "text/plain": [
       "<IPython.core.display.HTML object>"
      ]
     },
     "metadata": {},
     "output_type": "display_data"
    },
    {
     "name": "stdout",
     "output_type": "stream",
     "text": [
      "The network predicted negative with probability 0.99822503.\n",
      "The correct label is negative.\n"
     ]
    },
    {
     "data": {
      "text/html": [
       "<div style=\"background-color: #fed9c9; padding: 3pt;\"><span class=\"barcode\"; style=\"font-size:9pt; color: black; background-color: #e3eef8\">&nbsp;i&nbsp;</span><span class=\"barcode\"; style=\"font-size:9pt; color: black; background-color: #3c8cc3\">&nbsp;absolutely&nbsp;</span><span class=\"barcode\"; style=\"font-size:9pt; color: black; background-color: #eaf2fb\">&nbsp;adore&nbsp;</span><span class=\"barcode\"; style=\"font-size:9pt; color: black; background-color: #dfebf7\">&nbsp;this&nbsp;</span><span class=\"barcode\"; style=\"font-size:9pt; color: black; background-color: #f2f8fd\">&nbsp;little&nbsp;</span><span class=\"barcode\"; style=\"font-size:9pt; color: black; background-color: #f4f9fe\">&nbsp;shop&nbsp;</span><span class=\"barcode\"; style=\"font-size:9pt; color: black; background-color: #f5f9fe\">&nbsp;.&nbsp;</span></div><div style=\"background-color: #fedaca; padding: 3pt;\"><span class=\"barcode\"; style=\"font-size:9pt; color: black; background-color: #e8f1fa\">&nbsp;i&nbsp;</span><span class=\"barcode\"; style=\"font-size:9pt; color: black; background-color: #ecf4fb\">&nbsp;have&nbsp;</span><span class=\"barcode\"; style=\"font-size:9pt; color: black; background-color: #f0f6fd\">&nbsp;been&nbsp;</span><span class=\"barcode\"; style=\"font-size:9pt; color: black; background-color: #f2f7fd\">&nbsp;in&nbsp;</span><span class=\"barcode\"; style=\"font-size:9pt; color: black; background-color: #eef5fc\">&nbsp;there&nbsp;</span><span class=\"barcode\"; style=\"font-size:9pt; color: black; background-color: #f0f6fd\">&nbsp;3&nbsp;</span><span class=\"barcode\"; style=\"font-size:9pt; color: black; background-color: #eef5fc\">&nbsp;times&nbsp;</span><span class=\"barcode\"; style=\"font-size:9pt; color: black; background-color: #ecf4fb\">&nbsp;and&nbsp;</span><span class=\"barcode\"; style=\"font-size:9pt; color: black; background-color: #f0f6fd\">&nbsp;every&nbsp;</span><span class=\"barcode\"; style=\"font-size:9pt; color: black; background-color: #f2f7fd\">&nbsp;time&nbsp;</span><span class=\"barcode\"; style=\"font-size:9pt; color: black; background-color: #f1f7fd\">&nbsp;i&nbsp;</span><span class=\"barcode\"; style=\"font-size:9pt; color: black; background-color: #f1f7fd\">&nbsp;'&nbsp;</span><span class=\"barcode\"; style=\"font-size:9pt; color: black; background-color: #f1f7fd\">&nbsp;ve&nbsp;</span><span class=\"barcode\"; style=\"font-size:9pt; color: black; background-color: #f2f8fd\">&nbsp;walked&nbsp;</span><span class=\"barcode\"; style=\"font-size:9pt; color: black; background-color: #f2f8fd\">&nbsp;out&nbsp;</span><span class=\"barcode\"; style=\"font-size:9pt; color: black; background-color: #f2f7fd\">&nbsp;with&nbsp;</span><span class=\"barcode\"; style=\"font-size:9pt; color: black; background-color: #f1f7fd\">&nbsp;a&nbsp;</span><span class=\"barcode\"; style=\"font-size:9pt; color: black; background-color: #dfecf7\">&nbsp;better&nbsp;</span><span class=\"barcode\"; style=\"font-size:9pt; color: black; background-color: #f1f7fd\">&nbsp;deal&nbsp;</span><span class=\"barcode\"; style=\"font-size:9pt; color: black; background-color: #eff6fc\">&nbsp;then&nbsp;</span><span class=\"barcode\"; style=\"font-size:9pt; color: black; background-color: #ebf3fb\">&nbsp;the&nbsp;</span><span class=\"barcode\"; style=\"font-size:9pt; color: black; background-color: #f2f8fd\">&nbsp;time&nbsp;</span><span class=\"barcode\"; style=\"font-size:9pt; color: black; background-color: #f2f7fd\">&nbsp;before&nbsp;</span><span class=\"barcode\"; style=\"font-size:9pt; color: black; background-color: #f3f8fe\">&nbsp;.&nbsp;</span></div><div style=\"background-color: #fedaca; padding: 3pt;\"><span class=\"barcode\"; style=\"font-size:9pt; color: black; background-color: #f0f6fd\">&nbsp;i&nbsp;</span><span class=\"barcode\"; style=\"font-size:9pt; color: black; background-color: #f1f7fd\">&nbsp;'&nbsp;</span><span class=\"barcode\"; style=\"font-size:9pt; color: black; background-color: #eaf2fb\">&nbsp;m&nbsp;</span><span class=\"barcode\"; style=\"font-size:9pt; color: black; background-color: #e5eff9\">&nbsp;so&nbsp;</span><span class=\"barcode\"; style=\"font-size:9pt; color: black; background-color: #64a9d3\">&nbsp;proud&nbsp;</span><span class=\"barcode\"; style=\"font-size:9pt; color: black; background-color: #e5eff9\">&nbsp;of&nbsp;</span><span class=\"barcode\"; style=\"font-size:9pt; color: black; background-color: #e6f0f9\">&nbsp;my&nbsp;</span><span class=\"barcode\"; style=\"font-size:9pt; color: black; background-color: #eef5fc\">&nbsp;finds&nbsp;</span><span class=\"barcode\"; style=\"font-size:9pt; color: black; background-color: #f3f8fe\">&nbsp;.&nbsp;</span></div><div style=\"background-color: #fed9c9; padding: 3pt;\"><span class=\"barcode\"; style=\"font-size:9pt; color: black; background-color: #f3f8fe\">&nbsp;i&nbsp;</span><span class=\"barcode\"; style=\"font-size:9pt; color: black; background-color: #f4f9fe\">&nbsp;haven&nbsp;</span><span class=\"barcode\"; style=\"font-size:9pt; color: black; background-color: #f5f9fe\">&nbsp;'&nbsp;</span><span class=\"barcode\"; style=\"font-size:9pt; color: black; background-color: #f5f9fe\">&nbsp;t&nbsp;</span><span class=\"barcode\"; style=\"font-size:9pt; color: black; background-color: #f5fafe\">&nbsp;been&nbsp;</span><span class=\"barcode\"; style=\"font-size:9pt; color: black; background-color: #f5fafe\">&nbsp;in&nbsp;</span><span class=\"barcode\"; style=\"font-size:9pt; color: black; background-color: #f5f9fe\">&nbsp;to&nbsp;</span><span class=\"barcode\"; style=\"font-size:9pt; color: black; background-color: #f5fafe\">&nbsp;&lt;unk&gt;&nbsp;</span><span class=\"barcode\"; style=\"font-size:9pt; color: black; background-color: #f5fafe\">&nbsp;anything&nbsp;</span><span class=\"barcode\"; style=\"font-size:9pt; color: black; background-color: #f5fafe\">&nbsp;yet&nbsp;</span><span class=\"barcode\"; style=\"font-size:9pt; color: black; background-color: #f5fafe\">&nbsp;,&nbsp;</span><span class=\"barcode\"; style=\"font-size:9pt; color: black; background-color: #f4f9fe\">&nbsp;but&nbsp;</span><span class=\"barcode\"; style=\"font-size:9pt; color: black; background-color: #f2f7fd\">&nbsp;i&nbsp;</span><span class=\"barcode\"; style=\"font-size:9pt; color: black; background-color: #f2f7fd\">&nbsp;'&nbsp;</span><span class=\"barcode\"; style=\"font-size:9pt; color: black; background-color: #cde0f1\">&nbsp;m&nbsp;</span><span class=\"barcode\"; style=\"font-size:9pt; color: black; background-color: #b9d6ea\">&nbsp;building&nbsp;</span><span class=\"barcode\"; style=\"font-size:9pt; color: black; background-color: #dce9f6\">&nbsp;up&nbsp;</span><span class=\"barcode\"; style=\"font-size:9pt; color: black; background-color: #f2f7fd\">&nbsp;the&nbsp;</span><span class=\"barcode\"; style=\"font-size:9pt; color: black; background-color: #f0f6fd\">&nbsp;courage&nbsp;</span><span class=\"barcode\"; style=\"font-size:9pt; color: black; background-color: #f3f8fe\">&nbsp;to&nbsp;</span><span class=\"barcode\"; style=\"font-size:9pt; color: black; background-color: #f5f9fe\">&nbsp;do&nbsp;</span><span class=\"barcode\"; style=\"font-size:9pt; color: black; background-color: #f2f8fd\">&nbsp;so&nbsp;</span><span class=\"barcode\"; style=\"font-size:9pt; color: black; background-color: #f4f9fe\">&nbsp;.&nbsp;</span></div><div style=\"background-color: #fed9c9; padding: 3pt;\"><span class=\"barcode\"; style=\"font-size:9pt; color: black; background-color: #edf4fc\">&nbsp;i&nbsp;</span><span class=\"barcode\"; style=\"font-size:9pt; color: black; background-color: #f0f6fd\">&nbsp;'&nbsp;</span><span class=\"barcode\"; style=\"font-size:9pt; color: black; background-color: #eef5fc\">&nbsp;m&nbsp;</span><span class=\"barcode\"; style=\"font-size:9pt; color: black; background-color: #f1f7fd\">&nbsp;a&nbsp;</span><span class=\"barcode\"; style=\"font-size:9pt; color: black; background-color: #f1f7fd\">&nbsp;bit&nbsp;</span><span class=\"barcode\"; style=\"font-size:9pt; color: black; background-color: #f2f7fd\">&nbsp;intimidated&nbsp;</span><span class=\"barcode\"; style=\"font-size:9pt; color: black; background-color: #f2f7fd\">&nbsp;by&nbsp;</span><span class=\"barcode\"; style=\"font-size:9pt; color: black; background-color: #eff6fc\">&nbsp;the&nbsp;</span><span class=\"barcode\"; style=\"font-size:9pt; color: black; background-color: #f0f6fd\">&nbsp;process&nbsp;</span><span class=\"barcode\"; style=\"font-size:9pt; color: black; background-color: #f1f7fd\">&nbsp;,&nbsp;</span><span class=\"barcode\"; style=\"font-size:9pt; color: black; background-color: #f0f6fd\">&nbsp;not&nbsp;</span><span class=\"barcode\"; style=\"font-size:9pt; color: black; background-color: #f2f7fd\">&nbsp;sure&nbsp;</span><span class=\"barcode\"; style=\"font-size:9pt; color: black; background-color: #f2f7fd\">&nbsp;why&nbsp;</span><span class=\"barcode\"; style=\"font-size:9pt; color: black; background-color: #f2f8fd\">&nbsp;i&nbsp;</span><span class=\"barcode\"; style=\"font-size:9pt; color: black; background-color: #f2f8fd\">&nbsp;'&nbsp;</span><span class=\"barcode\"; style=\"font-size:9pt; color: black; background-color: #f2f8fd\">&nbsp;m&nbsp;</span><span class=\"barcode\"; style=\"font-size:9pt; color: black; background-color: #f2f8fd\">&nbsp;sure&nbsp;</span><span class=\"barcode\"; style=\"font-size:9pt; color: black; background-color: #f1f7fd\">&nbsp;it&nbsp;</span><span class=\"barcode\"; style=\"font-size:9pt; color: black; background-color: #f2f7fd\">&nbsp;'&nbsp;</span><span class=\"barcode\"; style=\"font-size:9pt; color: black; background-color: #f3f8fe\">&nbsp;s&nbsp;</span><span class=\"barcode\"; style=\"font-size:9pt; color: black; background-color: #f2f8fd\">&nbsp;a&nbsp;</span><span class=\"barcode\"; style=\"font-size:9pt; color: black; background-color: #f2f7fd\">&nbsp;lot&nbsp;</span><span class=\"barcode\"; style=\"font-size:9pt; color: black; background-color: #edf4fc\">&nbsp;of&nbsp;</span><span class=\"barcode\"; style=\"font-size:9pt; color: black; background-color: #cddff1\">&nbsp;fun&nbsp;</span><span class=\"barcode\"; style=\"font-size:9pt; color: black; background-color: #f3f8fe\">&nbsp;.&nbsp;</span></div><div style=\"background-color: #fedfd0; padding: 3pt;\"><span class=\"barcode\"; style=\"font-size:9pt; color: black; background-color: #e7f0fa\">&nbsp;way&nbsp;</span><span class=\"barcode\"; style=\"font-size:9pt; color: black; background-color: #e5eff9\">&nbsp;to&nbsp;</span><span class=\"barcode\"; style=\"font-size:9pt; color: black; background-color: #e7f1fa\">&nbsp;go&nbsp;</span><span class=\"barcode\"; style=\"font-size:9pt; color: black; background-color: #a5cde3\">&nbsp;poor&nbsp;</span><span class=\"barcode\"; style=\"font-size:9pt; color: black; background-color: #dfecf7\">&nbsp;little&nbsp;</span><span class=\"barcode\"; style=\"font-size:9pt; color: black; background-color: #d9e7f5\">&nbsp;rich&nbsp;</span><span class=\"barcode\"; style=\"font-size:9pt; color: black; background-color: #e2edf8\">&nbsp;girl&nbsp;</span><span class=\"barcode\"; style=\"font-size:9pt; color: black; background-color: #f5fafe\">&nbsp;!&nbsp;</span></div><div style=\"background-color: #fee1d3; padding: 3pt;\"><span class=\"barcode\"; style=\"font-size:9pt; color: black; background-color: #5da5d1\">&nbsp;\\now&nbsp;</span><span class=\"barcode\"; style=\"font-size:9pt; color: black; background-color: #d8e7f5\">&nbsp;lets&nbsp;</span><span class=\"barcode\"; style=\"font-size:9pt; color: black; background-color: #e7f0fa\">&nbsp;go&nbsp;</span><span class=\"barcode\"; style=\"font-size:9pt; color: black; background-color: #eaf2fb\">&nbsp;&lt;unk&gt;&nbsp;</span><span class=\"barcode\"; style=\"font-size:9pt; color: black; background-color: #dae8f6\">&nbsp;)&nbsp;</span></div>"
      ],
      "text/plain": [
       "<IPython.core.display.HTML object>"
      ]
     },
     "metadata": {},
     "output_type": "display_data"
    },
    {
     "name": "stdout",
     "output_type": "stream",
     "text": [
      "The network predicted positive with probability 0.97646683.\n",
      "The correct label is positive.\n"
     ]
    },
    {
     "data": {
      "text/html": [
       "<div style=\"background-color: #fb7656; padding: 3pt;\"><span class=\"barcode\"; style=\"font-size:9pt; color: black; background-color: #e1edf8\">&nbsp;i&nbsp;</span><span class=\"barcode\"; style=\"font-size:9pt; color: black; background-color: #e4eff9\">&nbsp;'&nbsp;</span><span class=\"barcode\"; style=\"font-size:9pt; color: black; background-color: #eaf2fb\">&nbsp;ve&nbsp;</span><span class=\"barcode\"; style=\"font-size:9pt; color: black; background-color: #edf4fc\">&nbsp;been&nbsp;</span><span class=\"barcode\"; style=\"font-size:9pt; color: black; background-color: #eef5fc\">&nbsp;in&nbsp;</span><span class=\"barcode\"; style=\"font-size:9pt; color: black; background-color: #edf4fc\">&nbsp;the&nbsp;</span><span class=\"barcode\"; style=\"font-size:9pt; color: black; background-color: #f0f6fd\">&nbsp;line&nbsp;</span><span class=\"barcode\"; style=\"font-size:9pt; color: black; background-color: #eff6fc\">&nbsp;up&nbsp;</span><span class=\"barcode\"; style=\"font-size:9pt; color: black; background-color: #ebf3fb\">&nbsp;so&nbsp;</span><span class=\"barcode\"; style=\"font-size:9pt; color: black; background-color: #eef5fc\">&nbsp;long&nbsp;</span><span class=\"barcode\"; style=\"font-size:9pt; color: black; background-color: #eef5fc\">&nbsp;i&nbsp;</span><span class=\"barcode\"; style=\"font-size:9pt; color: black; background-color: #f1f7fd\">&nbsp;thought&nbsp;</span><span class=\"barcode\"; style=\"font-size:9pt; color: black; background-color: #f0f6fd\">&nbsp;i&nbsp;</span><span class=\"barcode\"; style=\"font-size:9pt; color: black; background-color: #ecf4fb\">&nbsp;would&nbsp;</span><span class=\"barcode\"; style=\"font-size:9pt; color: black; background-color: #ebf3fb\">&nbsp;write&nbsp;</span><span class=\"barcode\"; style=\"font-size:9pt; color: black; background-color: #eef5fc\">&nbsp;a&nbsp;</span><span class=\"barcode\"; style=\"font-size:9pt; color: black; background-color: #eaf3fb\">&nbsp;review&nbsp;</span><span class=\"barcode\"; style=\"font-size:9pt; color: black; background-color: #eef5fc\">&nbsp;!&nbsp;</span></div><div style=\"background-color: #fff4ef; padding: 3pt;\"><span class=\"barcode\"; style=\"font-size:9pt; color: black; background-color: #08306b\">&nbsp;!&nbsp;</span></div><div style=\"background-color: #fff5f0; padding: 3pt;\"><span class=\"barcode\"; style=\"font-size:9pt; color: black; background-color: #08306b\">&nbsp;!&nbsp;</span></div><div style=\"background-color: #fff5f0; padding: 3pt;\"><span class=\"barcode\"; style=\"font-size:9pt; color: black; background-color: #08306b\">&nbsp;!&nbsp;</span></div><div style=\"background-color: #fa6547; padding: 3pt;\"><span class=\"barcode\"; style=\"font-size:9pt; color: black; background-color: #f0f6fd\">&nbsp;smell&nbsp;</span><span class=\"barcode\"; style=\"font-size:9pt; color: black; background-color: #e7f1fa\">&nbsp;is&nbsp;</span><span class=\"barcode\"; style=\"font-size:9pt; color: black; background-color: #c6dbef\">&nbsp;very&nbsp;</span><span class=\"barcode\"; style=\"font-size:9pt; color: black; background-color: #eef5fc\">&nbsp;odd&nbsp;</span><span class=\"barcode\"; style=\"font-size:9pt; color: black; background-color: #f0f6fd\">&nbsp;and&nbsp;</span><span class=\"barcode\"; style=\"font-size:9pt; color: black; background-color: #f3f8fe\">&nbsp;even&nbsp;</span><span class=\"barcode\"; style=\"font-size:9pt; color: black; background-color: #f5fafe\">&nbsp;though&nbsp;</span><span class=\"barcode\"; style=\"font-size:9pt; color: black; background-color: #f4f9fe\">&nbsp;there&nbsp;</span><span class=\"barcode\"; style=\"font-size:9pt; color: black; background-color: #f5f9fe\">&nbsp;aren&nbsp;</span><span class=\"barcode\"; style=\"font-size:9pt; color: black; background-color: #f5f9fe\">&nbsp;'&nbsp;</span><span class=\"barcode\"; style=\"font-size:9pt; color: black; background-color: #f5fafe\">&nbsp;t&nbsp;</span><span class=\"barcode\"; style=\"font-size:9pt; color: black; background-color: #f5fafe\">&nbsp;a&nbsp;</span><span class=\"barcode\"; style=\"font-size:9pt; color: black; background-color: #f5fafe\">&nbsp;lot&nbsp;</span><span class=\"barcode\"; style=\"font-size:9pt; color: black; background-color: #f5f9fe\">&nbsp;of&nbsp;</span><span class=\"barcode\"; style=\"font-size:9pt; color: black; background-color: #f5fafe\">&nbsp;people&nbsp;</span><span class=\"barcode\"; style=\"font-size:9pt; color: black; background-color: #f5fafe\">&nbsp;we&nbsp;</span><span class=\"barcode\"; style=\"font-size:9pt; color: black; background-color: #f5f9fe\">&nbsp;have&nbsp;</span><span class=\"barcode\"; style=\"font-size:9pt; color: black; background-color: #f5fafe\">&nbsp;been&nbsp;</span><span class=\"barcode\"; style=\"font-size:9pt; color: black; background-color: #f5fafe\">&nbsp;here&nbsp;</span><span class=\"barcode\"; style=\"font-size:9pt; color: black; background-color: #f6faff\">&nbsp;forever&nbsp;</span><span class=\"barcode\"; style=\"font-size:9pt; color: black; background-color: #f5fafe\">&nbsp;,&nbsp;</span><span class=\"barcode\"; style=\"font-size:9pt; color: black; background-color: #e0ecf8\">&nbsp;just&nbsp;</span><span class=\"barcode\"; style=\"font-size:9pt; color: black; background-color: #cde0f1\">&nbsp;waiting&nbsp;</span><span class=\"barcode\"; style=\"font-size:9pt; color: black; background-color: #f1f7fd\">&nbsp;.&nbsp;</span></div><div style=\"background-color: #fff5f0; padding: 3pt;\"><span class=\"barcode\"; style=\"font-size:9pt; color: black; background-color: #08306b\">&nbsp;.&nbsp;</span></div><div style=\"background-color: #fff5f0; padding: 3pt;\"><span class=\"barcode\"; style=\"font-size:9pt; color: black; background-color: #08306b\">&nbsp;.&nbsp;</span></div><div style=\"background-color: #fff5f0; padding: 3pt;\"><span class=\"barcode\"; style=\"font-size:9pt; color: black; background-color: #08306b\">&nbsp;.&nbsp;</span></div><div style=\"background-color: #fff5f0; padding: 3pt;\"><span class=\"barcode\"; style=\"font-size:9pt; color: black; background-color: #08306b\">&nbsp;.&nbsp;</span></div>"
      ],
      "text/plain": [
       "<IPython.core.display.HTML object>"
      ]
     },
     "metadata": {},
     "output_type": "display_data"
    },
    {
     "name": "stdout",
     "output_type": "stream",
     "text": [
      "The network predicted negative with probability 0.8841837.\n",
      "The correct label is negative.\n"
     ]
    }
   ],
   "source": [
    "rand_inds = np.random.choice(list(range(len(csv_test))), size=(5,), replace=False)\n",
    "for ind in rand_inds:\n",
    "    review = csv_test.iloc[ind, 1]\n",
    "    vis_review(review)\n",
    "    print('The correct label is ' + ('negative' if csv_test.iloc[ind, 0] == 1 else 'positive') + '.') #1 - Negative, 2 - Positive"
   ]
  },
  {
   "cell_type": "markdown",
   "metadata": {},
   "source": [
    "The network is classifying these review correctly. The sentences produced from repeated exclamation points are given lower attention than regular sentences. Adjectives that carry sentiment are also frequently given a high attention weighting. Although not ideal, I find the attention results quite impressive.\n",
    "\n",
    "Now let's write our own simple reviews and visualize the network's attention on them."
   ]
  },
  {
   "cell_type": "code",
   "execution_count": 55,
   "metadata": {},
   "outputs": [
    {
     "data": {
      "text/html": [
       "<div style=\"background-color: #fb6c4c; padding: 3pt;\"><span class=\"barcode\"; style=\"font-size:9pt; color: black; background-color: #bfd8ed\">&nbsp;this&nbsp;</span><span class=\"barcode\"; style=\"font-size:9pt; color: black; background-color: #dceaf6\">&nbsp;restaurant&nbsp;</span><span class=\"barcode\"; style=\"font-size:9pt; color: black; background-color: #e5eff9\">&nbsp;is&nbsp;</span><span class=\"barcode\"; style=\"font-size:9pt; color: black; background-color: #e6f0f9\">&nbsp;a&nbsp;</span><span class=\"barcode\"; style=\"font-size:9pt; color: black; background-color: #d5e5f4\">&nbsp;short&nbsp;</span><span class=\"barcode\"; style=\"font-size:9pt; color: black; background-color: #eaf3fb\">&nbsp;walk&nbsp;</span><span class=\"barcode\"; style=\"font-size:9pt; color: black; background-color: #eef5fc\">&nbsp;from&nbsp;</span><span class=\"barcode\"; style=\"font-size:9pt; color: black; background-color: #eef5fc\">&nbsp;my&nbsp;</span><span class=\"barcode\"; style=\"font-size:9pt; color: black; background-color: #eef5fc\">&nbsp;house&nbsp;</span><span class=\"barcode\"; style=\"font-size:9pt; color: black; background-color: #f2f7fd\">&nbsp;.&nbsp;</span></div><div style=\"background-color: #fa6849; padding: 3pt;\"><span class=\"barcode\"; style=\"font-size:9pt; color: black; background-color: #97c6df\">&nbsp;great&nbsp;</span><span class=\"barcode\"; style=\"font-size:9pt; color: black; background-color: #dce9f6\">&nbsp;food&nbsp;</span><span class=\"barcode\"; style=\"font-size:9pt; color: black; background-color: #eaf2fb\">&nbsp;,&nbsp;</span><span class=\"barcode\"; style=\"font-size:9pt; color: black; background-color: #afd1e7\">&nbsp;great&nbsp;</span><span class=\"barcode\"; style=\"font-size:9pt; color: black; background-color: #eaf3fb\">&nbsp;service&nbsp;</span><span class=\"barcode\"; style=\"font-size:9pt; color: black; background-color: #f4f9fe\">&nbsp;!&nbsp;</span></div>"
      ],
      "text/plain": [
       "<IPython.core.display.HTML object>"
      ]
     },
     "metadata": {},
     "output_type": "display_data"
    },
    {
     "name": "stdout",
     "output_type": "stream",
     "text": [
      "The network predicted positive with probability 0.9824808.\n"
     ]
    },
    {
     "data": {
      "text/html": [
       "<div style=\"background-color: #fca285; padding: 3pt;\"><span class=\"barcode\"; style=\"font-size:9pt; color: black; background-color: #e8f1fa\">&nbsp;i&nbsp;</span><span class=\"barcode\"; style=\"font-size:9pt; color: black; background-color: #eaf3fb\">&nbsp;'&nbsp;</span><span class=\"barcode\"; style=\"font-size:9pt; color: black; background-color: #eff6fc\">&nbsp;ve&nbsp;</span><span class=\"barcode\"; style=\"font-size:9pt; color: black; background-color: #f1f7fd\">&nbsp;been&nbsp;</span><span class=\"barcode\"; style=\"font-size:9pt; color: black; background-color: #ebf3fb\">&nbsp;going&nbsp;</span><span class=\"barcode\"; style=\"font-size:9pt; color: black; background-color: #f0f6fd\">&nbsp;to&nbsp;</span><span class=\"barcode\"; style=\"font-size:9pt; color: black; background-color: #f1f7fd\">&nbsp;this&nbsp;</span><span class=\"barcode\"; style=\"font-size:9pt; color: black; background-color: #eff6fc\">&nbsp;bar&nbsp;</span><span class=\"barcode\"; style=\"font-size:9pt; color: black; background-color: #eef5fc\">&nbsp;for&nbsp;</span><span class=\"barcode\"; style=\"font-size:9pt; color: black; background-color: #f1f7fd\">&nbsp;a&nbsp;</span><span class=\"barcode\"; style=\"font-size:9pt; color: black; background-color: #f2f7fd\">&nbsp;long&nbsp;</span><span class=\"barcode\"; style=\"font-size:9pt; color: black; background-color: #f0f6fd\">&nbsp;time&nbsp;</span><span class=\"barcode\"; style=\"font-size:9pt; color: black; background-color: #ebf3fb\">&nbsp;and&nbsp;</span><span class=\"barcode\"; style=\"font-size:9pt; color: black; background-color: #e3eef9\">&nbsp;have&nbsp;</span><span class=\"barcode\"; style=\"font-size:9pt; color: black; background-color: #d2e3f3\">&nbsp;good&nbsp;</span><span class=\"barcode\"; style=\"font-size:9pt; color: black; background-color: #f3f8fe\">&nbsp;memories&nbsp;</span><span class=\"barcode\"; style=\"font-size:9pt; color: black; background-color: #f2f8fd\">&nbsp;of&nbsp;</span><span class=\"barcode\"; style=\"font-size:9pt; color: black; background-color: #eff6fc\">&nbsp;it&nbsp;</span><span class=\"barcode\"; style=\"font-size:9pt; color: black; background-color: #f3f8fe\">&nbsp;.&nbsp;</span></div><div style=\"background-color: #fcbba1; padding: 3pt;\"><span class=\"barcode\"; style=\"font-size:9pt; color: black; background-color: #89bedc\">&nbsp;however&nbsp;</span><span class=\"barcode\"; style=\"font-size:9pt; color: black; background-color: #ecf4fb\">&nbsp;,&nbsp;</span><span class=\"barcode\"; style=\"font-size:9pt; color: black; background-color: #eff6fc\">&nbsp;it&nbsp;</span><span class=\"barcode\"; style=\"font-size:9pt; color: black; background-color: #f2f8fd\">&nbsp;'&nbsp;</span><span class=\"barcode\"; style=\"font-size:9pt; color: black; background-color: #f3f8fe\">&nbsp;s&nbsp;</span><span class=\"barcode\"; style=\"font-size:9pt; color: black; background-color: #e4eff9\">&nbsp;no&nbsp;</span><span class=\"barcode\"; style=\"font-size:9pt; color: black; background-color: #e3eef9\">&nbsp;longer&nbsp;</span><span class=\"barcode\"; style=\"font-size:9pt; color: black; background-color: #eff6fc\">&nbsp;the&nbsp;</span><span class=\"barcode\"; style=\"font-size:9pt; color: black; background-color: #ebf3fb\">&nbsp;place&nbsp;</span><span class=\"barcode\"; style=\"font-size:9pt; color: black; background-color: #f2f7fd\">&nbsp;i&nbsp;</span><span class=\"barcode\"; style=\"font-size:9pt; color: black; background-color: #e7f0fa\">&nbsp;knew&nbsp;</span><span class=\"barcode\"; style=\"font-size:9pt; color: black; background-color: #f4f9fe\">&nbsp;.&nbsp;</span></div><div style=\"background-color: #fc8464; padding: 3pt;\"><span class=\"barcode\"; style=\"font-size:9pt; color: black; background-color: #f2f7fd\">&nbsp;the&nbsp;</span><span class=\"barcode\"; style=\"font-size:9pt; color: black; background-color: #f2f8fd\">&nbsp;staff&nbsp;</span><span class=\"barcode\"; style=\"font-size:9pt; color: black; background-color: #e8f1fa\">&nbsp;are&nbsp;</span><span class=\"barcode\"; style=\"font-size:9pt; color: black; background-color: #bdd7ec\">&nbsp;rude&nbsp;</span><span class=\"barcode\"; style=\"font-size:9pt; color: black; background-color: #ecf4fb\">&nbsp;and&nbsp;</span><span class=\"barcode\"; style=\"font-size:9pt; color: black; background-color: #eaf3fb\">&nbsp;place&nbsp;</span><span class=\"barcode\"; style=\"font-size:9pt; color: black; background-color: #e9f2fa\">&nbsp;is&nbsp;</span><span class=\"barcode\"; style=\"font-size:9pt; color: black; background-color: #a5cde3\">&nbsp;dirty&nbsp;</span><span class=\"barcode\"; style=\"font-size:9pt; color: black; background-color: #eff6fc\">&nbsp;.&nbsp;</span></div>"
      ],
      "text/plain": [
       "<IPython.core.display.HTML object>"
      ]
     },
     "metadata": {},
     "output_type": "display_data"
    },
    {
     "name": "stdout",
     "output_type": "stream",
     "text": [
      "The network predicted negative with probability 0.9971058.\n"
     ]
    },
    {
     "data": {
      "text/html": [
       "<div style=\"background-color: #fc8666; padding: 3pt;\"><span class=\"barcode\"; style=\"font-size:9pt; color: black; background-color: #ecf4fb\">&nbsp;if&nbsp;</span><span class=\"barcode\"; style=\"font-size:9pt; color: black; background-color: #eaf3fb\">&nbsp;i&nbsp;</span><span class=\"barcode\"; style=\"font-size:9pt; color: black; background-color: #eff6fc\">&nbsp;say&nbsp;</span><span class=\"barcode\"; style=\"font-size:9pt; color: black; background-color: #e9f2fa\">&nbsp;car&nbsp;</span><span class=\"barcode\"; style=\"font-size:9pt; color: black; background-color: #dceaf6\">&nbsp;i&nbsp;</span><span class=\"barcode\"; style=\"font-size:9pt; color: black; background-color: #c1d9ed\">&nbsp;mean&nbsp;</span><span class=\"barcode\"; style=\"font-size:9pt; color: black; background-color: #a9cfe5\">&nbsp;good&nbsp;</span><span class=\"barcode\"; style=\"font-size:9pt; color: black; background-color: #f2f8fd\">&nbsp;.&nbsp;</span></div><div style=\"background-color: #fc8767; padding: 3pt;\"><span class=\"barcode\"; style=\"font-size:9pt; color: black; background-color: #dbe9f6\">&nbsp;if&nbsp;</span><span class=\"barcode\"; style=\"font-size:9pt; color: black; background-color: #e0ecf8\">&nbsp;i&nbsp;</span><span class=\"barcode\"; style=\"font-size:9pt; color: black; background-color: #e3eef8\">&nbsp;say&nbsp;</span><span class=\"barcode\"; style=\"font-size:9pt; color: black; background-color: #e3eef9\">&nbsp;water&nbsp;</span><span class=\"barcode\"; style=\"font-size:9pt; color: black; background-color: #dfecf7\">&nbsp;i&nbsp;</span><span class=\"barcode\"; style=\"font-size:9pt; color: black; background-color: #e8f1fa\">&nbsp;mean&nbsp;</span><span class=\"barcode\"; style=\"font-size:9pt; color: black; background-color: #cddff1\">&nbsp;bad&nbsp;</span><span class=\"barcode\"; style=\"font-size:9pt; color: black; background-color: #deebf7\">&nbsp;.&nbsp;</span></div><div style=\"background-color: #fdd1be; padding: 3pt;\"><span class=\"barcode\"; style=\"font-size:9pt; color: black; background-color: #dce9f6\">&nbsp;this&nbsp;</span><span class=\"barcode\"; style=\"font-size:9pt; color: black; background-color: #d3e4f3\">&nbsp;place&nbsp;</span><span class=\"barcode\"; style=\"font-size:9pt; color: black; background-color: #cde0f1\">&nbsp;is&nbsp;</span><span class=\"barcode\"; style=\"font-size:9pt; color: black; background-color: #97c6df\">&nbsp;car&nbsp;</span><span class=\"barcode\"; style=\"font-size:9pt; color: black; background-color: #e9f2fa\">&nbsp;.&nbsp;</span></div>"
      ],
      "text/plain": [
       "<IPython.core.display.HTML object>"
      ]
     },
     "metadata": {},
     "output_type": "display_data"
    },
    {
     "name": "stdout",
     "output_type": "stream",
     "text": [
      "The network predicted negative with probability 0.6193827.\n"
     ]
    }
   ],
   "source": [
    "review = \"This restaurant is a short walk from my house. Great food, great service!\"\n",
    "vis_review(review)\n",
    "\n",
    "review = \\\n",
    "\"I've been going to this bar for a long time and have good memories of it. \" + \\\n",
    "\"However, it's no longer the place I knew. The staff are rude and place is dirty.\" \n",
    "vis_review(review)\n",
    "\n",
    "review = \"If I say car I mean good. If I say water I mean bad. This place is car.\"\n",
    "vis_review(review)"
   ]
  },
  {
   "cell_type": "markdown",
   "metadata": {},
   "source": [
    "Our examples here are increasing in difficulty. In our second example, we say something positive before switching to saying something negative. The network is able to correctly classify this. The last example is unrealistically tricky just to see what the network can do. It assigns a low confidence to its wrong answer."
   ]
  },
  {
   "cell_type": "markdown",
   "metadata": {},
   "source": [
    "## Conclusion\n",
    "After reviewing hierarchical attention networks, we examined and prepared the \"Yelp Review Polarity\" dataset. We then implemented and trained a hierarchical attention network on this task. We achieved an accuracy of roughly 95% on the test set. The attention mechanism allowed us to visualize the network's \"reasoning\" over words and sentences. We did this on a few examples and saw interesting results emerge."
   ]
  }
 ],
 "metadata": {
  "kernelspec": {
   "display_name": "pytorch_venv",
   "language": "python",
   "name": "pytorch_venv"
  },
  "language_info": {
   "codemirror_mode": {
    "name": "ipython",
    "version": 3
   },
   "file_extension": ".py",
   "mimetype": "text/x-python",
   "name": "python",
   "nbconvert_exporter": "python",
   "pygments_lexer": "ipython3",
   "version": "3.8.10"
  }
 },
 "nbformat": 4,
 "nbformat_minor": 2
}
